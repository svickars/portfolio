{
 "cells": [
  {
   "cell_type": "code",
   "execution_count": 3,
   "metadata": {
    "collapsed": true
   },
   "outputs": [],
   "source": [
    "import numpy as np\n",
    "import pandas as pd\n",
    "import matplotlib.pyplot as plt\n",
    "from sklearn.externals import joblib"
   ]
  },
  {
   "cell_type": "code",
   "execution_count": 106,
   "metadata": {
    "collapsed": false
   },
   "outputs": [
    {
     "name": "stdout",
     "output_type": "stream",
     "text": [
      "(499, 41)\n"
     ]
    }
   ],
   "source": [
    "data = pd.read_csv('data/data_100days.csv')\n",
    "print(data.shape)"
   ]
  },
  {
   "cell_type": "code",
   "execution_count": null,
   "metadata": {
    "collapsed": false
   },
   "outputs": [],
   "source": []
  },
  {
   "cell_type": "markdown",
   "metadata": {},
   "source": [
    "## NLTK"
   ]
  },
  {
   "cell_type": "code",
   "execution_count": 18,
   "metadata": {
    "collapsed": false
   },
   "outputs": [],
   "source": [
    "import nltk\n",
    "from textblob import TextBlob, Word, Blobber"
   ]
  },
  {
   "cell_type": "code",
   "execution_count": 26,
   "metadata": {
    "collapsed": false
   },
   "outputs": [
    {
     "name": "stdout",
     "output_type": "stream",
     "text": [
      "[\"RT @foxnation: . @TuckerCarlson : #Dems Don't Really Believe #Trump Is a Pawn of #Russia - That's Just Their Political Tool  https://t.co/K…\"]\n"
     ]
    }
   ],
   "source": [
    "sentence = [\"RT @foxnation: . @TuckerCarlson : #Dems Don't Really Believe #Trump Is a Pawn of #Russia - That's Just Their Political Tool  https://t.co/K\\u2026\"]\n",
    "print(sentence)"
   ]
  },
  {
   "cell_type": "code",
   "execution_count": 16,
   "metadata": {
    "collapsed": false
   },
   "outputs": [
    {
     "ename": "TypeError",
     "evalue": "expected string or bytes-like object",
     "output_type": "error",
     "traceback": [
      "\u001b[0;31m---------------------------------------------------------------------------\u001b[0m",
      "\u001b[0;31mTypeError\u001b[0m                                 Traceback (most recent call last)",
      "\u001b[0;32m<ipython-input-16-0f393b14a7e6>\u001b[0m in \u001b[0;36m<module>\u001b[0;34m()\u001b[0m\n\u001b[0;32m----> 1\u001b[0;31m \u001b[0mtokens\u001b[0m \u001b[0;34m=\u001b[0m \u001b[0mnltk\u001b[0m\u001b[0;34m.\u001b[0m\u001b[0mword_tokenize\u001b[0m\u001b[0;34m(\u001b[0m\u001b[0msentence\u001b[0m\u001b[0;34m)\u001b[0m\u001b[0;34m\u001b[0m\u001b[0m\n\u001b[0m\u001b[1;32m      2\u001b[0m \u001b[0mtagged\u001b[0m \u001b[0;34m=\u001b[0m \u001b[0mnltk\u001b[0m\u001b[0;34m.\u001b[0m\u001b[0mpos_tag\u001b[0m\u001b[0;34m(\u001b[0m\u001b[0mtokens\u001b[0m\u001b[0;34m)\u001b[0m\u001b[0;34m\u001b[0m\u001b[0m\n\u001b[1;32m      3\u001b[0m \u001b[0mprint\u001b[0m\u001b[0;34m(\u001b[0m\u001b[0mtagged\u001b[0m\u001b[0;34m)\u001b[0m\u001b[0;34m\u001b[0m\u001b[0m\n",
      "\u001b[0;32m/Users/samvickars/anaconda/lib/python3.6/site-packages/nltk/tokenize/__init__.py\u001b[0m in \u001b[0;36mword_tokenize\u001b[0;34m(text, language)\u001b[0m\n\u001b[1;32m    107\u001b[0m     \u001b[0;34m:\u001b[0m\u001b[0mparam\u001b[0m \u001b[0mlanguage\u001b[0m\u001b[0;34m:\u001b[0m \u001b[0mthe\u001b[0m \u001b[0mmodel\u001b[0m \u001b[0mname\u001b[0m \u001b[0;32min\u001b[0m \u001b[0mthe\u001b[0m \u001b[0mPunkt\u001b[0m \u001b[0mcorpus\u001b[0m\u001b[0;34m\u001b[0m\u001b[0m\n\u001b[1;32m    108\u001b[0m     \"\"\"\n\u001b[0;32m--> 109\u001b[0;31m     return [token for sent in sent_tokenize(text, language)\n\u001b[0m\u001b[1;32m    110\u001b[0m             for token in _treebank_word_tokenize(sent)]\n\u001b[1;32m    111\u001b[0m \u001b[0;34m\u001b[0m\u001b[0m\n",
      "\u001b[0;32m/Users/samvickars/anaconda/lib/python3.6/site-packages/nltk/tokenize/__init__.py\u001b[0m in \u001b[0;36msent_tokenize\u001b[0;34m(text, language)\u001b[0m\n\u001b[1;32m     92\u001b[0m     \"\"\"\n\u001b[1;32m     93\u001b[0m     \u001b[0mtokenizer\u001b[0m \u001b[0;34m=\u001b[0m \u001b[0mload\u001b[0m\u001b[0;34m(\u001b[0m\u001b[0;34m'tokenizers/punkt/{0}.pickle'\u001b[0m\u001b[0;34m.\u001b[0m\u001b[0mformat\u001b[0m\u001b[0;34m(\u001b[0m\u001b[0mlanguage\u001b[0m\u001b[0;34m)\u001b[0m\u001b[0;34m)\u001b[0m\u001b[0;34m\u001b[0m\u001b[0m\n\u001b[0;32m---> 94\u001b[0;31m     \u001b[0;32mreturn\u001b[0m \u001b[0mtokenizer\u001b[0m\u001b[0;34m.\u001b[0m\u001b[0mtokenize\u001b[0m\u001b[0;34m(\u001b[0m\u001b[0mtext\u001b[0m\u001b[0;34m)\u001b[0m\u001b[0;34m\u001b[0m\u001b[0m\n\u001b[0m\u001b[1;32m     95\u001b[0m \u001b[0;34m\u001b[0m\u001b[0m\n\u001b[1;32m     96\u001b[0m \u001b[0;31m# Standard word tokenizer.\u001b[0m\u001b[0;34m\u001b[0m\u001b[0;34m\u001b[0m\u001b[0m\n",
      "\u001b[0;32m/Users/samvickars/anaconda/lib/python3.6/site-packages/nltk/tokenize/punkt.py\u001b[0m in \u001b[0;36mtokenize\u001b[0;34m(self, text, realign_boundaries)\u001b[0m\n\u001b[1;32m   1235\u001b[0m         \u001b[0mGiven\u001b[0m \u001b[0ma\u001b[0m \u001b[0mtext\u001b[0m\u001b[0;34m,\u001b[0m \u001b[0mreturns\u001b[0m \u001b[0ma\u001b[0m \u001b[0mlist\u001b[0m \u001b[0mof\u001b[0m \u001b[0mthe\u001b[0m \u001b[0msentences\u001b[0m \u001b[0;32min\u001b[0m \u001b[0mthat\u001b[0m \u001b[0mtext\u001b[0m\u001b[0;34m.\u001b[0m\u001b[0;34m\u001b[0m\u001b[0m\n\u001b[1;32m   1236\u001b[0m         \"\"\"\n\u001b[0;32m-> 1237\u001b[0;31m         \u001b[0;32mreturn\u001b[0m \u001b[0mlist\u001b[0m\u001b[0;34m(\u001b[0m\u001b[0mself\u001b[0m\u001b[0;34m.\u001b[0m\u001b[0msentences_from_text\u001b[0m\u001b[0;34m(\u001b[0m\u001b[0mtext\u001b[0m\u001b[0;34m,\u001b[0m \u001b[0mrealign_boundaries\u001b[0m\u001b[0;34m)\u001b[0m\u001b[0;34m)\u001b[0m\u001b[0;34m\u001b[0m\u001b[0m\n\u001b[0m\u001b[1;32m   1238\u001b[0m \u001b[0;34m\u001b[0m\u001b[0m\n\u001b[1;32m   1239\u001b[0m     \u001b[0;32mdef\u001b[0m \u001b[0mdebug_decisions\u001b[0m\u001b[0;34m(\u001b[0m\u001b[0mself\u001b[0m\u001b[0;34m,\u001b[0m \u001b[0mtext\u001b[0m\u001b[0;34m)\u001b[0m\u001b[0;34m:\u001b[0m\u001b[0;34m\u001b[0m\u001b[0m\n",
      "\u001b[0;32m/Users/samvickars/anaconda/lib/python3.6/site-packages/nltk/tokenize/punkt.py\u001b[0m in \u001b[0;36msentences_from_text\u001b[0;34m(self, text, realign_boundaries)\u001b[0m\n\u001b[1;32m   1283\u001b[0m         \u001b[0mfollows\u001b[0m \u001b[0mthe\u001b[0m \u001b[0mperiod\u001b[0m\u001b[0;34m.\u001b[0m\u001b[0;34m\u001b[0m\u001b[0m\n\u001b[1;32m   1284\u001b[0m         \"\"\"\n\u001b[0;32m-> 1285\u001b[0;31m         \u001b[0;32mreturn\u001b[0m \u001b[0;34m[\u001b[0m\u001b[0mtext\u001b[0m\u001b[0;34m[\u001b[0m\u001b[0ms\u001b[0m\u001b[0;34m:\u001b[0m\u001b[0me\u001b[0m\u001b[0;34m]\u001b[0m \u001b[0;32mfor\u001b[0m \u001b[0ms\u001b[0m\u001b[0;34m,\u001b[0m \u001b[0me\u001b[0m \u001b[0;32min\u001b[0m \u001b[0mself\u001b[0m\u001b[0;34m.\u001b[0m\u001b[0mspan_tokenize\u001b[0m\u001b[0;34m(\u001b[0m\u001b[0mtext\u001b[0m\u001b[0;34m,\u001b[0m \u001b[0mrealign_boundaries\u001b[0m\u001b[0;34m)\u001b[0m\u001b[0;34m]\u001b[0m\u001b[0;34m\u001b[0m\u001b[0m\n\u001b[0m\u001b[1;32m   1286\u001b[0m \u001b[0;34m\u001b[0m\u001b[0m\n\u001b[1;32m   1287\u001b[0m     \u001b[0;32mdef\u001b[0m \u001b[0m_slices_from_text\u001b[0m\u001b[0;34m(\u001b[0m\u001b[0mself\u001b[0m\u001b[0;34m,\u001b[0m \u001b[0mtext\u001b[0m\u001b[0;34m)\u001b[0m\u001b[0;34m:\u001b[0m\u001b[0;34m\u001b[0m\u001b[0m\n",
      "\u001b[0;32m/Users/samvickars/anaconda/lib/python3.6/site-packages/nltk/tokenize/punkt.py\u001b[0m in \u001b[0;36mspan_tokenize\u001b[0;34m(self, text, realign_boundaries)\u001b[0m\n\u001b[1;32m   1274\u001b[0m         \u001b[0;32mif\u001b[0m \u001b[0mrealign_boundaries\u001b[0m\u001b[0;34m:\u001b[0m\u001b[0;34m\u001b[0m\u001b[0m\n\u001b[1;32m   1275\u001b[0m             \u001b[0mslices\u001b[0m \u001b[0;34m=\u001b[0m \u001b[0mself\u001b[0m\u001b[0;34m.\u001b[0m\u001b[0m_realign_boundaries\u001b[0m\u001b[0;34m(\u001b[0m\u001b[0mtext\u001b[0m\u001b[0;34m,\u001b[0m \u001b[0mslices\u001b[0m\u001b[0;34m)\u001b[0m\u001b[0;34m\u001b[0m\u001b[0m\n\u001b[0;32m-> 1276\u001b[0;31m         \u001b[0;32mreturn\u001b[0m \u001b[0;34m[\u001b[0m\u001b[0;34m(\u001b[0m\u001b[0msl\u001b[0m\u001b[0;34m.\u001b[0m\u001b[0mstart\u001b[0m\u001b[0;34m,\u001b[0m \u001b[0msl\u001b[0m\u001b[0;34m.\u001b[0m\u001b[0mstop\u001b[0m\u001b[0;34m)\u001b[0m \u001b[0;32mfor\u001b[0m \u001b[0msl\u001b[0m \u001b[0;32min\u001b[0m \u001b[0mslices\u001b[0m\u001b[0;34m]\u001b[0m\u001b[0;34m\u001b[0m\u001b[0m\n\u001b[0m\u001b[1;32m   1277\u001b[0m \u001b[0;34m\u001b[0m\u001b[0m\n\u001b[1;32m   1278\u001b[0m     \u001b[0;32mdef\u001b[0m \u001b[0msentences_from_text\u001b[0m\u001b[0;34m(\u001b[0m\u001b[0mself\u001b[0m\u001b[0;34m,\u001b[0m \u001b[0mtext\u001b[0m\u001b[0;34m,\u001b[0m \u001b[0mrealign_boundaries\u001b[0m\u001b[0;34m=\u001b[0m\u001b[0;32mTrue\u001b[0m\u001b[0;34m)\u001b[0m\u001b[0;34m:\u001b[0m\u001b[0;34m\u001b[0m\u001b[0m\n",
      "\u001b[0;32m/Users/samvickars/anaconda/lib/python3.6/site-packages/nltk/tokenize/punkt.py\u001b[0m in \u001b[0;36m<listcomp>\u001b[0;34m(.0)\u001b[0m\n\u001b[1;32m   1274\u001b[0m         \u001b[0;32mif\u001b[0m \u001b[0mrealign_boundaries\u001b[0m\u001b[0;34m:\u001b[0m\u001b[0;34m\u001b[0m\u001b[0m\n\u001b[1;32m   1275\u001b[0m             \u001b[0mslices\u001b[0m \u001b[0;34m=\u001b[0m \u001b[0mself\u001b[0m\u001b[0;34m.\u001b[0m\u001b[0m_realign_boundaries\u001b[0m\u001b[0;34m(\u001b[0m\u001b[0mtext\u001b[0m\u001b[0;34m,\u001b[0m \u001b[0mslices\u001b[0m\u001b[0;34m)\u001b[0m\u001b[0;34m\u001b[0m\u001b[0m\n\u001b[0;32m-> 1276\u001b[0;31m         \u001b[0;32mreturn\u001b[0m \u001b[0;34m[\u001b[0m\u001b[0;34m(\u001b[0m\u001b[0msl\u001b[0m\u001b[0;34m.\u001b[0m\u001b[0mstart\u001b[0m\u001b[0;34m,\u001b[0m \u001b[0msl\u001b[0m\u001b[0;34m.\u001b[0m\u001b[0mstop\u001b[0m\u001b[0;34m)\u001b[0m \u001b[0;32mfor\u001b[0m \u001b[0msl\u001b[0m \u001b[0;32min\u001b[0m \u001b[0mslices\u001b[0m\u001b[0;34m]\u001b[0m\u001b[0;34m\u001b[0m\u001b[0m\n\u001b[0m\u001b[1;32m   1277\u001b[0m \u001b[0;34m\u001b[0m\u001b[0m\n\u001b[1;32m   1278\u001b[0m     \u001b[0;32mdef\u001b[0m \u001b[0msentences_from_text\u001b[0m\u001b[0;34m(\u001b[0m\u001b[0mself\u001b[0m\u001b[0;34m,\u001b[0m \u001b[0mtext\u001b[0m\u001b[0;34m,\u001b[0m \u001b[0mrealign_boundaries\u001b[0m\u001b[0;34m=\u001b[0m\u001b[0;32mTrue\u001b[0m\u001b[0;34m)\u001b[0m\u001b[0;34m:\u001b[0m\u001b[0;34m\u001b[0m\u001b[0m\n",
      "\u001b[0;32m/Users/samvickars/anaconda/lib/python3.6/site-packages/nltk/tokenize/punkt.py\u001b[0m in \u001b[0;36m_realign_boundaries\u001b[0;34m(self, text, slices)\u001b[0m\n\u001b[1;32m   1314\u001b[0m         \"\"\"\n\u001b[1;32m   1315\u001b[0m         \u001b[0mrealign\u001b[0m \u001b[0;34m=\u001b[0m \u001b[0;36m0\u001b[0m\u001b[0;34m\u001b[0m\u001b[0m\n\u001b[0;32m-> 1316\u001b[0;31m         \u001b[0;32mfor\u001b[0m \u001b[0msl1\u001b[0m\u001b[0;34m,\u001b[0m \u001b[0msl2\u001b[0m \u001b[0;32min\u001b[0m \u001b[0m_pair_iter\u001b[0m\u001b[0;34m(\u001b[0m\u001b[0mslices\u001b[0m\u001b[0;34m)\u001b[0m\u001b[0;34m:\u001b[0m\u001b[0;34m\u001b[0m\u001b[0m\n\u001b[0m\u001b[1;32m   1317\u001b[0m             \u001b[0msl1\u001b[0m \u001b[0;34m=\u001b[0m \u001b[0mslice\u001b[0m\u001b[0;34m(\u001b[0m\u001b[0msl1\u001b[0m\u001b[0;34m.\u001b[0m\u001b[0mstart\u001b[0m \u001b[0;34m+\u001b[0m \u001b[0mrealign\u001b[0m\u001b[0;34m,\u001b[0m \u001b[0msl1\u001b[0m\u001b[0;34m.\u001b[0m\u001b[0mstop\u001b[0m\u001b[0;34m)\u001b[0m\u001b[0;34m\u001b[0m\u001b[0m\n\u001b[1;32m   1318\u001b[0m             \u001b[0;32mif\u001b[0m \u001b[0;32mnot\u001b[0m \u001b[0msl2\u001b[0m\u001b[0;34m:\u001b[0m\u001b[0;34m\u001b[0m\u001b[0m\n",
      "\u001b[0;32m/Users/samvickars/anaconda/lib/python3.6/site-packages/nltk/tokenize/punkt.py\u001b[0m in \u001b[0;36m_pair_iter\u001b[0;34m(it)\u001b[0m\n\u001b[1;32m    308\u001b[0m     \"\"\"\n\u001b[1;32m    309\u001b[0m     \u001b[0mit\u001b[0m \u001b[0;34m=\u001b[0m \u001b[0miter\u001b[0m\u001b[0;34m(\u001b[0m\u001b[0mit\u001b[0m\u001b[0;34m)\u001b[0m\u001b[0;34m\u001b[0m\u001b[0m\n\u001b[0;32m--> 310\u001b[0;31m     \u001b[0mprev\u001b[0m \u001b[0;34m=\u001b[0m \u001b[0mnext\u001b[0m\u001b[0;34m(\u001b[0m\u001b[0mit\u001b[0m\u001b[0;34m)\u001b[0m\u001b[0;34m\u001b[0m\u001b[0m\n\u001b[0m\u001b[1;32m    311\u001b[0m     \u001b[0;32mfor\u001b[0m \u001b[0mel\u001b[0m \u001b[0;32min\u001b[0m \u001b[0mit\u001b[0m\u001b[0;34m:\u001b[0m\u001b[0;34m\u001b[0m\u001b[0m\n\u001b[1;32m    312\u001b[0m         \u001b[0;32myield\u001b[0m \u001b[0;34m(\u001b[0m\u001b[0mprev\u001b[0m\u001b[0;34m,\u001b[0m \u001b[0mel\u001b[0m\u001b[0;34m)\u001b[0m\u001b[0;34m\u001b[0m\u001b[0m\n",
      "\u001b[0;32m/Users/samvickars/anaconda/lib/python3.6/site-packages/nltk/tokenize/punkt.py\u001b[0m in \u001b[0;36m_slices_from_text\u001b[0;34m(self, text)\u001b[0m\n\u001b[1;32m   1287\u001b[0m     \u001b[0;32mdef\u001b[0m \u001b[0m_slices_from_text\u001b[0m\u001b[0;34m(\u001b[0m\u001b[0mself\u001b[0m\u001b[0;34m,\u001b[0m \u001b[0mtext\u001b[0m\u001b[0;34m)\u001b[0m\u001b[0;34m:\u001b[0m\u001b[0;34m\u001b[0m\u001b[0m\n\u001b[1;32m   1288\u001b[0m         \u001b[0mlast_break\u001b[0m \u001b[0;34m=\u001b[0m \u001b[0;36m0\u001b[0m\u001b[0;34m\u001b[0m\u001b[0m\n\u001b[0;32m-> 1289\u001b[0;31m         \u001b[0;32mfor\u001b[0m \u001b[0mmatch\u001b[0m \u001b[0;32min\u001b[0m \u001b[0mself\u001b[0m\u001b[0;34m.\u001b[0m\u001b[0m_lang_vars\u001b[0m\u001b[0;34m.\u001b[0m\u001b[0mperiod_context_re\u001b[0m\u001b[0;34m(\u001b[0m\u001b[0;34m)\u001b[0m\u001b[0;34m.\u001b[0m\u001b[0mfinditer\u001b[0m\u001b[0;34m(\u001b[0m\u001b[0mtext\u001b[0m\u001b[0;34m)\u001b[0m\u001b[0;34m:\u001b[0m\u001b[0;34m\u001b[0m\u001b[0m\n\u001b[0m\u001b[1;32m   1290\u001b[0m             \u001b[0mcontext\u001b[0m \u001b[0;34m=\u001b[0m \u001b[0mmatch\u001b[0m\u001b[0;34m.\u001b[0m\u001b[0mgroup\u001b[0m\u001b[0;34m(\u001b[0m\u001b[0;34m)\u001b[0m \u001b[0;34m+\u001b[0m \u001b[0mmatch\u001b[0m\u001b[0;34m.\u001b[0m\u001b[0mgroup\u001b[0m\u001b[0;34m(\u001b[0m\u001b[0;34m'after_tok'\u001b[0m\u001b[0;34m)\u001b[0m\u001b[0;34m\u001b[0m\u001b[0m\n\u001b[1;32m   1291\u001b[0m             \u001b[0;32mif\u001b[0m \u001b[0mself\u001b[0m\u001b[0;34m.\u001b[0m\u001b[0mtext_contains_sentbreak\u001b[0m\u001b[0;34m(\u001b[0m\u001b[0mcontext\u001b[0m\u001b[0;34m)\u001b[0m\u001b[0;34m:\u001b[0m\u001b[0;34m\u001b[0m\u001b[0m\n",
      "\u001b[0;31mTypeError\u001b[0m: expected string or bytes-like object"
     ]
    }
   ],
   "source": [
    "tokens = nltk.word_tokenize(sentence)\n",
    "tagged = nltk.pos_tag(tokens)\n",
    "print(tagged)"
   ]
  },
  {
   "cell_type": "code",
   "execution_count": 27,
   "metadata": {
    "collapsed": false
   },
   "outputs": [],
   "source": [
    "for entry in sentence:\n",
    "    text = entry\n",
    "    blob = TextBlob(text)\n",
    "    word_list = []\n",
    "    words_list = []\n",
    "#     word_list.append(blob.tags)\n",
    "    pos_list = []\n",
    "    poss_list = []\n",
    "    noun_phrase_list = []\n",
    "    noun_phrase_list.append(blob.noun_phrases)\n",
    "    polarity = blob.sentiment.polarity\n",
    "    subjectivity = blob.sentiment.subjectivity\n",
    "    for word, pos in blob.tags:\n",
    "        words_list.append(word)\n",
    "        poss_list.append(pos)\n",
    "    word_list.append(words_list)\n",
    "    pos_list.append(poss_list)\n",
    "    \n",
    "#     data_tagged_noun_phrase_list.append(noun_phrase_list)\n",
    "#     data_tagged_word_list.append(word_list)\n",
    "#     data_tagged_pos_list.append(pos_list)\n",
    "#     data_tagged_polarity.append(polarity)\n",
    "#     data_tagged_subjectivity.append(subjectivity)"
   ]
  },
  {
   "cell_type": "code",
   "execution_count": 28,
   "metadata": {
    "collapsed": false
   },
   "outputs": [
    {
     "name": "stdout",
     "output_type": "stream",
     "text": [
      "[['RT', '@', 'foxnation', '@', 'TuckerCarlson', 'Dems', 'Do', \"n't\", 'Really', 'Believe', 'Trump', 'Is', 'a', 'Pawn', 'of', 'Russia', 'That', \"'s\", 'Just', 'Their', 'Political', 'Tool', 'https', '//t.co/K…']]\n"
     ]
    }
   ],
   "source": [
    "print(word_list)"
   ]
  },
  {
   "cell_type": "code",
   "execution_count": 22,
   "metadata": {
    "collapsed": false
   },
   "outputs": [
    {
     "name": "stdout",
     "output_type": "stream",
     "text": [
      "[['VB', 'NNP', 'RB', 'VBD', 'IN', 'JJ', 'NNP', 'POS', 'NNS', 'VBP', 'VBN', 'IN', 'JJ', 'JJ', 'NN', 'POS', 'NNP', 'PRP', 'VBP']]\n"
     ]
    }
   ],
   "source": [
    "print(pos_list)"
   ]
  },
  {
   "cell_type": "code",
   "execution_count": 23,
   "metadata": {
    "collapsed": false
   },
   "outputs": [
    {
     "name": "stdout",
     "output_type": "stream",
     "text": [
      "0.0\n"
     ]
    }
   ],
   "source": [
    "print(polarity)"
   ]
  },
  {
   "cell_type": "code",
   "execution_count": 24,
   "metadata": {
    "collapsed": false
   },
   "outputs": [
    {
     "name": "stdout",
     "output_type": "stream",
     "text": [
      "0.25\n"
     ]
    }
   ],
   "source": [
    "print(subjectivity)"
   ]
  },
  {
   "cell_type": "code",
   "execution_count": 25,
   "metadata": {
    "collapsed": false
   },
   "outputs": [
    {
     "name": "stdout",
     "output_type": "stream",
     "text": [
      "[WordList(['loudobbs', 'trump', 'recent presidential history', 'thank', 'lou'])]\n"
     ]
    }
   ],
   "source": [
    "print(noun_phrase_list)"
   ]
  },
  {
   "cell_type": "code",
   "execution_count": null,
   "metadata": {
    "collapsed": true
   },
   "outputs": [],
   "source": []
  },
  {
   "cell_type": "markdown",
   "metadata": {},
   "source": [
    "## NLP - 1\n",
    "##### POS, word list, polarity, subjectivity, noun_phrases"
   ]
  },
  {
   "cell_type": "code",
   "execution_count": 108,
   "metadata": {
    "collapsed": false
   },
   "outputs": [
    {
     "name": "stdout",
     "output_type": "stream",
     "text": [
      "(499, 4)\n"
     ]
    }
   ],
   "source": [
    "data_tagged = pd.read_csv('data/data_100days_tobetagged.csv')\n",
    "print(data_tagged.shape)"
   ]
  },
  {
   "cell_type": "code",
   "execution_count": null,
   "metadata": {
    "collapsed": false
   },
   "outputs": [],
   "source": [
    "data_tagged = data_tagged.drop('created_at', 1)"
   ]
  },
  {
   "cell_type": "code",
   "execution_count": 199,
   "metadata": {
    "collapsed": false
   },
   "outputs": [],
   "source": [
    "from textblob import TextBlob\n",
    "\n",
    "data_tagged_noun_phrase_list = []\n",
    "data_tagged_word_list = []\n",
    "data_tagged_pos_list = []\n",
    "data_tagged_polarity = []\n",
    "data_tagged_subjectivity = []\n",
    "\n",
    "for entry in data_tagged['text']:\n",
    "    text = entry\n",
    "    blob = TextBlob(text)\n",
    "    word_list = []\n",
    "    words_list = []\n",
    "#     word_list.append(blob.tags)\n",
    "    pos_list = []\n",
    "    poss_list = []\n",
    "    noun_phrase_list = []\n",
    "    noun_phrase_list.append(blob.noun_phrases)\n",
    "    polarity = blob.sentiment.polarity\n",
    "    subjectivity = blob.sentiment.subjectivity\n",
    "    for word, pos in blob.tags:\n",
    "        words_list.append(word)\n",
    "        poss_list.append(pos)\n",
    "    word_list.append(words_list)\n",
    "    pos_list.append(poss_list)\n",
    "    \n",
    "    data_tagged_noun_phrase_list.append(noun_phrase_list)\n",
    "    data_tagged_word_list.append(word_list)\n",
    "    data_tagged_pos_list.append(pos_list)\n",
    "    data_tagged_polarity.append(polarity)\n",
    "    data_tagged_subjectivity.append(subjectivity)\n",
    "    \n",
    "cols1 = ['noun_phrases']\n",
    "cols2 = ['word_list']\n",
    "cols3 = ['pos_list']\n",
    "cols4 = ['polarity']\n",
    "cols5 = ['subjectivity']\n",
    "\n",
    "df_noun_phrase = pd.DataFrame(data_tagged_noun_phrase_list, columns=cols1)\n",
    "df_word_list = pd.DataFrame(data_tagged_word_list, columns=cols2)\n",
    "df_pos_list = pd.DataFrame(data_tagged_pos_list, columns=cols3)\n",
    "df_polarity = pd.DataFrame(data_tagged_polarity, columns=cols4)\n",
    "df_subjectivity = pd.DataFrame(data_tagged_subjectivity, columns=cols5)\n"
   ]
  },
  {
   "cell_type": "markdown",
   "metadata": {},
   "source": [
    "## Topics"
   ]
  },
  {
   "cell_type": "code",
   "execution_count": 215,
   "metadata": {
    "collapsed": false
   },
   "outputs": [
    {
     "name": "stdout",
     "output_type": "stream",
     "text": [
      "(499, 5)\n"
     ]
    }
   ],
   "source": [
    "data_topics = pd.read_csv('data/data_100days_topics.csv')\n",
    "print(data_topics.shape)"
   ]
  },
  {
   "cell_type": "code",
   "execution_count": 220,
   "metadata": {
    "collapsed": false
   },
   "outputs": [],
   "source": [
    "data['word_list'] = data_tagged['word_list']\n",
    "data['pos_list'] = data_tagged['pos_list']\n",
    "data['polarity'] = data_tagged['polarity']\n",
    "data['subjectivity'] = data_tagged['subjectivity']\n",
    "data['noun_phrases'] = data_tagged['noun_phrases']"
   ]
  },
  {
   "cell_type": "code",
   "execution_count": 221,
   "metadata": {
    "collapsed": false
   },
   "outputs": [
    {
     "name": "stdout",
     "output_type": "stream",
     "text": [
      "     tweet_number_of2017_r  tweet_number_of2017  tweet_number_r  tweet_number  \\\n",
      "0                      793                  297             499             1   \n",
      "1                      792                  298             498             2   \n",
      "2                      791                  299             497             3   \n",
      "3                      790                  300             496             4   \n",
      "4                      789                  301             495             5   \n",
      "5                      788                  302             494             6   \n",
      "6                      787                  303             493             7   \n",
      "7                      786                  304             492             8   \n",
      "8                      785                  305             491             9   \n",
      "9                      784                  306             490            10   \n",
      "10                     783                  307             489            11   \n",
      "11                     782                  308             488            12   \n",
      "12                     781                  309             487            13   \n",
      "13                     780                  310             486            14   \n",
      "14                     779                  311             485            15   \n",
      "15                     778                  312             484            16   \n",
      "16                     777                  313             483            17   \n",
      "17                     776                  314             482            18   \n",
      "18                     775                  315             481            19   \n",
      "19                     774                  316             480            20   \n",
      "20                     773                  317             479            21   \n",
      "21                     772                  318             478            22   \n",
      "22                     771                  319             477            23   \n",
      "23                     770                  320             476            24   \n",
      "24                     769                  321             475            25   \n",
      "25                     768                  322             474            26   \n",
      "26                     767                  323             473            27   \n",
      "27                     766                  324             472            28   \n",
      "28                     765                  325             471            29   \n",
      "29                     764                  326             470            30   \n",
      "..                     ...                  ...             ...           ...   \n",
      "469                    324                  766              30           470   \n",
      "470                    323                  767              29           471   \n",
      "471                    322                  768              28           472   \n",
      "472                    321                  769              27           473   \n",
      "473                    320                  770              26           474   \n",
      "474                    319                  771              25           475   \n",
      "475                    318                  772              24           476   \n",
      "476                    317                  773              23           477   \n",
      "477                    316                  774              22           478   \n",
      "478                    315                  775              21           479   \n",
      "479                    314                  776              20           480   \n",
      "480                    313                  777              19           481   \n",
      "481                    312                  778              18           482   \n",
      "482                    311                  779              17           483   \n",
      "483                    310                  780              16           484   \n",
      "484                    309                  781              15           485   \n",
      "485                    308                  782              14           486   \n",
      "486                    307                  783              13           487   \n",
      "487                    306                  784              12           488   \n",
      "488                    305                  785              11           489   \n",
      "489                    304                  786              10           490   \n",
      "490                    303                  787               9           491   \n",
      "491                    302                  788               8           492   \n",
      "492                    301                  789               7           493   \n",
      "493                    300                  790               6           494   \n",
      "494                    299                  791               5           495   \n",
      "495                    298                  792               4           496   \n",
      "496                    297                  793               3           497   \n",
      "497                    296                  794               2           498   \n",
      "498                    295                  795               1           499   \n",
      "\n",
      "             created_at           timestamp  favorite_count  \\\n",
      "0    1/20/2017 12:31:53   1/20/2017 8:31:53          270072   \n",
      "1    1/20/2017 17:51:25  1/20/2017 13:51:25          110413   \n",
      "2    1/20/2017 17:51:58  1/20/2017 13:51:58           91793   \n",
      "3    1/20/2017 17:52:45  1/20/2017 13:52:45          181628   \n",
      "4    1/20/2017 17:53:17  1/20/2017 13:53:17          219990   \n",
      "5    1/20/2017 17:54:00  1/20/2017 13:54:00          149030   \n",
      "6    1/20/2017 17:54:36  1/20/2017 13:54:36          175028   \n",
      "7    1/20/2017 17:55:44  1/20/2017 13:55:44          162528   \n",
      "8    1/20/2017 17:58:24  1/20/2017 13:58:24           59446   \n",
      "9    1/20/2017 18:00:43  1/20/2017 14:00:43           87099   \n",
      "10   1/20/2017 18:13:48  1/20/2017 14:13:48           92784   \n",
      "11    1/21/2017 4:56:15   1/21/2017 0:56:15          291838   \n",
      "12   1/21/2017 11:53:41   1/21/2017 7:53:41          178663   \n",
      "13   1/21/2017 23:54:31  1/21/2017 19:54:31               0   \n",
      "14   1/22/2017 12:35:09   1/22/2017 8:35:09          128540   \n",
      "15   1/22/2017 12:47:21   1/22/2017 8:47:21          214956   \n",
      "16   1/22/2017 12:51:36   1/22/2017 8:51:36          219171   \n",
      "17   1/22/2017 14:23:17  1/22/2017 10:23:17          393334   \n",
      "18   1/23/2017 11:38:16   1/23/2017 7:38:16          179094   \n",
      "19   1/24/2017 11:11:47   1/24/2017 7:11:47          155883   \n",
      "20   1/24/2017 16:58:06  1/24/2017 12:58:06          110219   \n",
      "21   1/24/2017 17:04:01  1/24/2017 13:04:01          100310   \n",
      "22   1/24/2017 17:49:17  1/24/2017 13:49:17          132880   \n",
      "23    1/25/2017 0:46:57  1/24/2017 20:46:57          101767   \n",
      "24    1/25/2017 2:16:19  1/24/2017 22:16:19          163998   \n",
      "25    1/25/2017 2:25:40  1/24/2017 22:25:40          210986   \n",
      "26    1/25/2017 2:37:48  1/24/2017 22:37:48          195439   \n",
      "27   1/25/2017 12:10:01   1/25/2017 8:10:01          130770   \n",
      "28   1/25/2017 12:13:46   1/25/2017 8:13:46          107962   \n",
      "29   1/25/2017 12:17:01   1/25/2017 8:17:01          133207   \n",
      "..                  ...                 ...             ...   \n",
      "469  4/25/2017 11:23:08   4/25/2017 7:23:08           38174   \n",
      "470  4/25/2017 12:30:15   4/25/2017 8:30:15           62410   \n",
      "471  4/25/2017 12:36:28   4/25/2017 8:36:28          100403   \n",
      "472  4/25/2017 17:51:03  4/25/2017 13:51:03           36680   \n",
      "473  4/25/2017 23:32:13  4/25/2017 19:32:13           39700   \n",
      "474  4/26/2017 10:20:00   4/26/2017 6:20:00           68417   \n",
      "475  4/26/2017 10:30:54   4/26/2017 6:30:54           49108   \n",
      "476  4/26/2017 10:38:51   4/26/2017 6:38:51           56713   \n",
      "477  4/26/2017 10:51:06   4/26/2017 6:51:06           47306   \n",
      "478  4/26/2017 14:53:26  4/26/2017 10:53:26           84968   \n",
      "479  4/26/2017 18:10:04  4/26/2017 14:10:04           33556   \n",
      "480  4/26/2017 20:49:16  4/26/2017 16:49:16           40150   \n",
      "481  4/26/2017 22:27:29  4/26/2017 18:27:29           48958   \n",
      "482  4/26/2017 23:06:16  4/26/2017 19:06:16           53315   \n",
      "483  4/27/2017 11:12:12   4/27/2017 7:12:12           70369   \n",
      "484  4/27/2017 11:21:20   4/27/2017 7:21:20           49344   \n",
      "485  4/27/2017 11:30:20   4/27/2017 7:30:20           70532   \n",
      "486  4/27/2017 14:37:09  4/27/2017 10:37:09           45485   \n",
      "487  4/27/2017 14:37:30  4/27/2017 10:37:30           60475   \n",
      "488  4/27/2017 14:37:51  4/27/2017 10:37:51           60227   \n",
      "489  4/27/2017 14:38:14  4/27/2017 10:38:14           49170   \n",
      "490  4/27/2017 14:39:04  4/27/2017 10:39:04           58783   \n",
      "491  4/27/2017 14:39:25  4/27/2017 10:39:25           60100   \n",
      "492  4/27/2017 18:59:31  4/27/2017 14:59:31           53257   \n",
      "493  4/27/2017 21:42:47  4/27/2017 17:42:47           28019   \n",
      "494  4/27/2017 22:43:19  4/27/2017 18:43:19           47087   \n",
      "495  4/28/2017 12:12:15   4/28/2017 8:12:15               0   \n",
      "496  4/28/2017 12:15:59   4/28/2017 8:15:59           80923   \n",
      "497  4/28/2017 22:31:25  4/28/2017 18:31:25           35290   \n",
      "498  4/28/2017 23:26:18  4/28/2017 19:26:18           85804   \n",
      "\n",
      "                                                  link            id  \\\n",
      "0    https://twitter.com/realdonaldtrump/status/822...  8.224214e+17   \n",
      "1    https://twitter.com/realdonaldtrump/status/822...  8.225018e+17   \n",
      "2    https://twitter.com/realdonaldtrump/status/822...  8.225019e+17   \n",
      "3    https://twitter.com/realdonaldtrump/status/822...  8.225021e+17   \n",
      "4    https://twitter.com/realdonaldtrump/status/822...  8.225023e+17   \n",
      "5    https://twitter.com/realdonaldtrump/status/822...  8.225025e+17   \n",
      "6    https://twitter.com/realdonaldtrump/status/822...  8.225026e+17   \n",
      "7    https://twitter.com/realdonaldtrump/status/822...  8.225029e+17   \n",
      "8    https://twitter.com/realdonaldtrump/status/822...  8.225036e+17   \n",
      "9    https://twitter.com/realdonaldtrump/status/822...  8.225041e+17   \n",
      "10   https://twitter.com/realdonaldtrump/status/822...  8.225074e+17   \n",
      "11   https://twitter.com/realdonaldtrump/status/822...  8.226691e+17   \n",
      "12   https://twitter.com/realdonaldtrump/status/822...  8.227742e+17   \n",
      "13   https://twitter.com/realdonaldtrump/status/822...  8.229556e+17   \n",
      "14   https://twitter.com/realdonaldtrump/status/823...  8.231470e+17   \n",
      "15   https://twitter.com/realdonaldtrump/status/823...  8.231501e+17   \n",
      "16   https://twitter.com/realdonaldtrump/status/823...  8.231511e+17   \n",
      "17   https://twitter.com/realdonaldtrump/status/823...  8.231742e+17   \n",
      "18   https://twitter.com/realdonaldtrump/status/823...  8.234951e+17   \n",
      "19   https://twitter.com/realdonaldtrump/status/823...  8.238508e+17   \n",
      "20   https://twitter.com/realdonaldtrump/status/823...  8.239379e+17   \n",
      "21   https://twitter.com/realdonaldtrump/status/823...  8.239394e+17   \n",
      "22   https://twitter.com/realdonaldtrump/status/823...  8.239508e+17   \n",
      "23   https://twitter.com/realdonaldtrump/status/824...  8.240559e+17   \n",
      "24   https://twitter.com/realdonaldtrump/status/824...  8.240784e+17   \n",
      "25   https://twitter.com/realdonaldtrump/status/824...  8.240808e+17   \n",
      "26   https://twitter.com/realdonaldtrump/status/824...  8.240838e+17   \n",
      "27   https://twitter.com/realdonaldtrump/status/824...  8.242278e+17   \n",
      "28   https://twitter.com/realdonaldtrump/status/824...  8.242288e+17   \n",
      "29   https://twitter.com/realdonaldtrump/status/824...  8.242296e+17   \n",
      "..                                                 ...           ...   \n",
      "469  https://twitter.com/realdonaldtrump/status/856...  8.568309e+17   \n",
      "470  https://twitter.com/realdonaldtrump/status/856...  8.568478e+17   \n",
      "471  https://twitter.com/realdonaldtrump/status/856...  8.568494e+17   \n",
      "472  https://twitter.com/realdonaldtrump/status/856...  8.569286e+17   \n",
      "473  https://twitter.com/realdonaldtrump/status/857...  8.570144e+17   \n",
      "474  https://twitter.com/realdonaldtrump/status/857...  8.571774e+17   \n",
      "475  https://twitter.com/realdonaldtrump/status/857...  8.571802e+17   \n",
      "476  https://twitter.com/realdonaldtrump/status/857...  8.571822e+17   \n",
      "477  https://twitter.com/realdonaldtrump/status/857...  8.571853e+17   \n",
      "478  https://twitter.com/realdonaldtrump/status/857...  8.572462e+17   \n",
      "479  https://twitter.com/realdonaldtrump/status/857...  8.572957e+17   \n",
      "480  https://twitter.com/realdonaldtrump/status/857...  8.573360e+17   \n",
      "481  https://twitter.com/realdonaldtrump/status/857...  8.573605e+17   \n",
      "482  https://twitter.com/realdonaldtrump/status/857...  8.573703e+17   \n",
      "483  https://twitter.com/realdonaldtrump/status/857...  8.575530e+17   \n",
      "484  https://twitter.com/realdonaldtrump/status/857...  8.575553e+17   \n",
      "485  https://twitter.com/realdonaldtrump/status/857...  8.575575e+17   \n",
      "486  https://twitter.com/realdonaldtrump/status/857...  8.576045e+17   \n",
      "487  https://twitter.com/realdonaldtrump/status/857...  8.576046e+17   \n",
      "488  https://twitter.com/realdonaldtrump/status/857...  8.576047e+17   \n",
      "489  https://twitter.com/realdonaldtrump/status/857...  8.576048e+17   \n",
      "490  https://twitter.com/realdonaldtrump/status/857...  8.576050e+17   \n",
      "491  https://twitter.com/realdonaldtrump/status/857...  8.576051e+17   \n",
      "492  https://twitter.com/realdonaldtrump/status/857...  8.576706e+17   \n",
      "493  https://twitter.com/realdonaldtrump/status/857...  8.577117e+17   \n",
      "494  https://twitter.com/realdonaldtrump/status/857...  8.577269e+17   \n",
      "495  https://twitter.com/realdonaldtrump/status/857...  8.579305e+17   \n",
      "496  https://twitter.com/realdonaldtrump/status/857...  8.579314e+17   \n",
      "497  https://twitter.com/realdonaldtrump/status/858...  8.580863e+17   \n",
      "498  https://twitter.com/realdonaldtrump/status/858...  8.581001e+17   \n",
      "\n",
      "           id_str                        ...                          \\\n",
      "0    8.224214e+17                        ...                           \n",
      "1    8.225018e+17                        ...                           \n",
      "2    8.225019e+17                        ...                           \n",
      "3    8.225021e+17                        ...                           \n",
      "4    8.225023e+17                        ...                           \n",
      "5    8.225025e+17                        ...                           \n",
      "6    8.225026e+17                        ...                           \n",
      "7    8.225029e+17                        ...                           \n",
      "8    8.225036e+17                        ...                           \n",
      "9    8.225041e+17                        ...                           \n",
      "10   8.225074e+17                        ...                           \n",
      "11   8.226691e+17                        ...                           \n",
      "12   8.227742e+17                        ...                           \n",
      "13   8.229556e+17                        ...                           \n",
      "14   8.231470e+17                        ...                           \n",
      "15   8.231501e+17                        ...                           \n",
      "16   8.231511e+17                        ...                           \n",
      "17   8.231742e+17                        ...                           \n",
      "18   8.234951e+17                        ...                           \n",
      "19   8.238508e+17                        ...                           \n",
      "20   8.239379e+17                        ...                           \n",
      "21   8.239394e+17                        ...                           \n",
      "22   8.239508e+17                        ...                           \n",
      "23   8.240559e+17                        ...                           \n",
      "24   8.240784e+17                        ...                           \n",
      "25   8.240808e+17                        ...                           \n",
      "26   8.240838e+17                        ...                           \n",
      "27   8.242278e+17                        ...                           \n",
      "28   8.242288e+17                        ...                           \n",
      "29   8.242296e+17                        ...                           \n",
      "..            ...                        ...                           \n",
      "469  8.568309e+17                        ...                           \n",
      "470  8.568478e+17                        ...                           \n",
      "471  8.568494e+17                        ...                           \n",
      "472  8.569286e+17                        ...                           \n",
      "473  8.570144e+17                        ...                           \n",
      "474  8.571770e+17                        ...                           \n",
      "475  8.571802e+17                        ...                           \n",
      "476  8.571822e+17                        ...                           \n",
      "477  8.571853e+17                        ...                           \n",
      "478  8.572462e+17                        ...                           \n",
      "479  8.572957e+17                        ...                           \n",
      "480  8.573360e+17                        ...                           \n",
      "481  8.573605e+17                        ...                           \n",
      "482  8.573703e+17                        ...                           \n",
      "483  8.575530e+17                        ...                           \n",
      "484  8.575553e+17                        ...                           \n",
      "485  8.575575e+17                        ...                           \n",
      "486  8.576045e+17                        ...                           \n",
      "487  8.576046e+17                        ...                           \n",
      "488  8.576047e+17                        ...                           \n",
      "489  8.576048e+17                        ...                           \n",
      "490  8.576050e+17                        ...                           \n",
      "491  8.576051e+17                        ...                           \n",
      "492  8.576706e+17                        ...                           \n",
      "493  8.577117e+17                        ...                           \n",
      "494  8.577269e+17                        ...                           \n",
      "495  8.579305e+17                        ...                           \n",
      "496  8.579314e+17                        ...                           \n",
      "497  8.580863e+17                        ...                           \n",
      "498  8.581001e+17                        ...                           \n",
      "\n",
      "    retweeted_user_id  quoted_status_text  quoted_status_userId  \\\n",
      "0                 NaN                 NaN                   NaN   \n",
      "1                 NaN                 NaN                   NaN   \n",
      "2                 NaN                 NaN                   NaN   \n",
      "3                 NaN                 NaN                   NaN   \n",
      "4                 NaN                 NaN                   NaN   \n",
      "5                 NaN                 NaN                   NaN   \n",
      "6                 NaN                 NaN                   NaN   \n",
      "7                 NaN                 NaN                   NaN   \n",
      "8                 NaN                 NaN                   NaN   \n",
      "9                 NaN                 NaN                   NaN   \n",
      "10                NaN                 NaN                   NaN   \n",
      "11                NaN                 NaN                   NaN   \n",
      "12                NaN                 NaN                   NaN   \n",
      "13                NaN                 NaN                   NaN   \n",
      "14                NaN                 NaN                   NaN   \n",
      "15                NaN                 NaN                   NaN   \n",
      "16                NaN                 NaN                   NaN   \n",
      "17                NaN                 NaN                   NaN   \n",
      "18                NaN                 NaN                   NaN   \n",
      "19                NaN                 NaN                   NaN   \n",
      "20                NaN                 NaN                   NaN   \n",
      "21                NaN                 NaN                   NaN   \n",
      "22                NaN                 NaN                   NaN   \n",
      "23                NaN                 NaN                   NaN   \n",
      "24                NaN                 NaN                   NaN   \n",
      "25                NaN                 NaN                   NaN   \n",
      "26                NaN                 NaN                   NaN   \n",
      "27                NaN                 NaN                   NaN   \n",
      "28                NaN                 NaN                   NaN   \n",
      "29                NaN                 NaN                   NaN   \n",
      "..                ...                 ...                   ...   \n",
      "469               NaN                 NaN                   NaN   \n",
      "470               NaN                 NaN                   NaN   \n",
      "471               NaN                 NaN                   NaN   \n",
      "472               NaN                 NaN                   NaN   \n",
      "473               NaN                 NaN                   NaN   \n",
      "474               NaN                 NaN                   NaN   \n",
      "475               NaN                 NaN                   NaN   \n",
      "476               NaN                 NaN                   NaN   \n",
      "477               NaN                 NaN                   NaN   \n",
      "478               NaN                 NaN                   NaN   \n",
      "479               NaN                 NaN                   NaN   \n",
      "480               NaN                 NaN                   NaN   \n",
      "481               NaN                 NaN                   NaN   \n",
      "482               NaN                 NaN                   NaN   \n",
      "483               NaN                 NaN                   NaN   \n",
      "484               NaN                 NaN                   NaN   \n",
      "485               NaN                 NaN                   NaN   \n",
      "486               NaN                 NaN                   NaN   \n",
      "487               NaN                 NaN                   NaN   \n",
      "488               NaN                 NaN                   NaN   \n",
      "489               NaN                 NaN                   NaN   \n",
      "490               NaN                 NaN                   NaN   \n",
      "491               NaN                 NaN                   NaN   \n",
      "492               NaN                 NaN                   NaN   \n",
      "493               NaN                 NaN                   NaN   \n",
      "494               NaN                 NaN                   NaN   \n",
      "495               NaN                 NaN                   NaN   \n",
      "496               NaN                 NaN                   NaN   \n",
      "497               NaN                 NaN                   NaN   \n",
      "498               NaN                 NaN                   NaN   \n",
      "\n",
      "     quoted_status_screenName                       topic  \\\n",
      "0                         NaN  Making America great again   \n",
      "1                         NaN  Making America great again   \n",
      "2                         NaN  Making America great again   \n",
      "3                         NaN  Making America great again   \n",
      "4                         NaN  Making America great again   \n",
      "5                         NaN  Making America great again   \n",
      "6                         NaN                        Jobs   \n",
      "7                         NaN  Making America great again   \n",
      "8                         NaN  Making America great again   \n",
      "9                         NaN  Making America great again   \n",
      "10                        NaN  Making America great again   \n",
      "11                        NaN  Making America great again   \n",
      "12                        NaN                       Media   \n",
      "13                        NaN  Making America great again   \n",
      "14                        NaN           Official business   \n",
      "15                        NaN               2016 election   \n",
      "16                        NaN                       Media   \n",
      "17                        NaN           Official business   \n",
      "18                        NaN           Official business   \n",
      "19                        NaN                        Jobs   \n",
      "20                        NaN                       Media   \n",
      "21                        NaN                        Jobs   \n",
      "22                        NaN           Official business   \n",
      "23                        NaN                        Jobs   \n",
      "24                        NaN                       Media   \n",
      "25                        NaN           Official business   \n",
      "26                        NaN             Foreign affairs   \n",
      "27                        NaN               2016 election   \n",
      "28                        NaN               2016 election   \n",
      "29                        NaN           Official business   \n",
      "..                        ...                         ...   \n",
      "469                       NaN         Unofficial business   \n",
      "470                       NaN             foreign affairs   \n",
      "471                       NaN                   Fake news   \n",
      "472                       NaN             foreign affairs   \n",
      "473                       NaN           Official business   \n",
      "474                       NaN             Immigration ban   \n",
      "475                       NaN             Immigration ban   \n",
      "476                       NaN             Immigration ban   \n",
      "477                       NaN           Official business   \n",
      "478                       NaN         Unofficial business   \n",
      "479                       NaN           Official business   \n",
      "480                       NaN           Official business   \n",
      "481                       NaN           Official business   \n",
      "482                       NaN                  healthcare   \n",
      "483                       NaN             foreign affairs   \n",
      "484                       NaN             foreign affairs   \n",
      "485                       NaN            democratic Party   \n",
      "486                       NaN                  healthcare   \n",
      "487                       NaN            democratic Party   \n",
      "488                       NaN            democratic Party   \n",
      "489                       NaN            democratic Party   \n",
      "490                       NaN            democratic Party   \n",
      "491                       NaN            democratic Party   \n",
      "492                       NaN              Foreign Leader   \n",
      "493                       NaN           Official business   \n",
      "494                       NaN           Official business   \n",
      "495                       NaN                       media   \n",
      "496                       NaN           Official business   \n",
      "497                       NaN                       media   \n",
      "498                       NaN             foreign affairs   \n",
      "\n",
      "                                             word_list  \\\n",
      "0    [It, all, begins, today, I, will, see, you, at...   \n",
      "1    [Today, we, are, not, merely, transferring, po...   \n",
      "2    [power, from, Washington, D.C., and, giving, i...   \n",
      "3    [What, truly, matters, is, not, which, party, ...   \n",
      "4    [January, 20th, 2017, will, be, remembered, as...   \n",
      "5    [The, forgotten, men, and, women, of, our, cou...   \n",
      "6    [We, will, bring, back, our, jobs, We, will, b...   \n",
      "7    [We, will, follow, two, simple, rules, BUY, AM...   \n",
      "8    [It, is, time, to, remember, that, https, //t....   \n",
      "9    [So, to, all, Americans, in, every, city, near...   \n",
      "10    [TO, ALL, AMERICANS🇺🇸, https, //t.co/D7Es6ie4fY]   \n",
      "11   [THANK, YOU, for, another, wonderful, evening,...   \n",
      "12   [A, fantastic, day, and, evening, in, Washingt...   \n",
      "13   [RT, @, WhiteHouse, Do, not, allow, anyone, to...   \n",
      "14   [Had, a, great, meeting, at, CIA, Headquarters...   \n",
      "15   [Watched, protests, yesterday, but, was, under...   \n",
      "16   [Wow, television, ratings, just, out, 31, mill...   \n",
      "17   [Peaceful, protests, are, a, hallmark, of, our...   \n",
      "18   [Busy, week, planned, with, a, heavy, focus, o...   \n",
      "19   [Will, be, meeting, at, 9:00, with, top, autom...   \n",
      "20   [A, photo, delivered, yesterday, that, will, b...   \n",
      "21   [Great, meeting, with, automobile, industry, l...   \n",
      "22   [Signing, orders, to, move, forward, with, the...   \n",
      "23   [Great, meeting, with, Ford, CEO, Mark, Fields...   \n",
      "24   [Congratulations, to, @, FoxNews, for, being, ...   \n",
      "25   [If, Chicago, does, n't, fix, the, horrible, c...   \n",
      "26   [Big, day, planned, on, NATIONAL, SECURITY, to...   \n",
      "27   [I, will, be, asking, for, a, major, investiga...   \n",
      "28   [even, those, registered, to, vote, who, are, ...   \n",
      "29   [I, will, be, making, my, Supreme, Court, pick...   \n",
      "..                                                 ...   \n",
      "469  [Proud, of, @, IvankaTrump, for, her, leadersh...   \n",
      "470  [Canada, has, made, business, for, our, dairy,...   \n",
      "471  [Do, n't, let, the, fake, media, tell, you, th...   \n",
      "472  [Remarks, at, the, United, States, Holocaust, ...   \n",
      "473  [Presidential, Executive, Order, on, Promoting...   \n",
      "474  [First, the, Ninth, Circuit, rules, against, t...   \n",
      "475  [Out, of, our, very, big, country, with, many,...   \n",
      "476  [the, Ninth, Circuit, which, has, a, terrible,...   \n",
      "477  [The, U.S., recorded, its, slowest, economic, ...   \n",
      "478  [HAPPY, BIRTHDAY, to, our, @, FLOTUS, Melania,...   \n",
      "479  [Today, I, signed, an, Executive, Order, @, th...   \n",
      "480  [Today, I, signed, an, Executive, Order, on, E...   \n",
      "481  [A, great, great, honor, to, welcome, &, amp, ...   \n",
      "482  [Democrats, are, trying, to, bail, out, insura...   \n",
      "483  [I, received, calls, from, the, President, of,...   \n",
      "484  [subject, to, the, fact, that, if, we, do, not...   \n",
      "485  [The, Democrats, want, to, shut, government, i...   \n",
      "486  [I, want, to, help, our, miners, while, the, D...   \n",
      "487  [I, promise, to, rebuild, our, military, and, ...   \n",
      "488  [What, 's, more, important, Rebuilding, our, m...   \n",
      "489  [Democrats, jeopardizing, the, safety, of, our...   \n",
      "490  [Democrats, used, to, support, border, securit...   \n",
      "491  [As, families, prepare, for, summer, vacations...   \n",
      "492  [@, FLOTUS, Melania, and, I, were, honored, to...   \n",
      "493  [Presidential, Memorandum, for, the, @, Commer...   \n",
      "494  [Today, I, signed, an, Executive, Order, on, I...   \n",
      "495  [RT, @, foxandfriends, Former, President, Obam...   \n",
      "496  [We, are, making, tremendous, progress, with, ...   \n",
      "497  [I, will, be, interviewed, by, @, MarthaMaccal...   \n",
      "498  [North, Korea, disrespected, the, wishes, of, ...   \n",
      "\n",
      "                                              pos_list  polarity  \\\n",
      "0    [PRP, DT, VBZ, NN, PRP, MD, VB, PRP, IN, CD, N...  0.000000   \n",
      "1    [NN, PRP, VBP, RB, RB, VBG, NN, IN, CD, NNP, T...  0.250000   \n",
      "2    [NN, IN, NNP, NNP, CC, VBG, PRP, RB, TO, PRP, ...  0.000000   \n",
      "3    [WP, NN, NNS, VBZ, RB, WDT, NN, VBZ, PRP$, NN,...  0.000000   \n",
      "4    [NNP, CD, CD, MD, VB, VBN, IN, DT, NN, DT, NNS...  0.000000   \n",
      "5    [DT, JJ, NNS, CC, NNS, IN, PRP$, NN, MD, VB, V...  0.000000   \n",
      "6    [PRP, MD, VB, RP, PRP$, NNS, PRP, MD, VB, RP, ...  0.000000   \n",
      "7    [PRP, MD, VB, CD, JJ, NNS, NNP, NNP, CC, NN, N...  0.000000   \n",
      "8                   [PRP, VBZ, NN, TO, VB, IN, NN, NN]  0.000000   \n",
      "9    [RB, TO, DT, NNPS, IN, DT, NN, IN, CC, RB, JJ,...  0.041071   \n",
      "10                             [NNP, NNP, NNP, NN, NN]  0.000000   \n",
      "11   [NNP, NNP, IN, DT, JJ, NN, IN, NNP, NNP, NNP, ...  0.900000   \n",
      "12   [DT, JJ, NN, CC, NN, IN, NNP, NNP, PRP, TO, VB...  0.443750   \n",
      "13   [NNP, NNP, NNP, VBP, RB, VB, NN, TO, VB, PRP, ...  0.000000   \n",
      "14   [VBD, DT, JJ, NN, IN, NNP, NNP, NN, VBN, NN, V...  0.630000   \n",
      "15   [JJ, NNS, NN, CC, VBD, IN, DT, NN, IN, PRP, RB... -0.700000   \n",
      "16   [NNP, NN, NNS, RB, IN, CD, CD, NNS, VBD, DT, N...  0.533333   \n",
      "17   [JJ, NNS, VBP, DT, NN, IN, PRP$, NN, RB, IN, P...  0.250000   \n",
      "18   [JJ, NN, VBN, IN, DT, JJ, NN, IN, NNS, CC, JJ,...  0.133333   \n",
      "19   [MD, VB, VBG, IN, CD, IN, JJ, NN, NNS, VBG, NN...  0.335227   \n",
      "20   [DT, NN, VBN, NN, WDT, MD, VB, VBN, IN, DT, JJ...  0.000000   \n",
      "21   [JJ, NN, IN, NN, NN, NNS, IN, DT, NN, NNP, DT,...  1.000000   \n",
      "22   [VBG, NNS, TO, VB, RB, IN, DT, NN, IN, DT, NNP...  0.000000   \n",
      "23   [JJ, NN, IN, NNP, NNP, NNP, NNP, CC, NNP, NNP,...  0.425000   \n",
      "24   [NNS, TO, VB, NNP, IN, VBG, NN, CD, IN, NN, NN...  0.103571   \n",
      "25   [IN, NNP, VBZ, RB, VB, DT, JJ, NN, VBG, IN, CD... -1.000000   \n",
      "26   [JJ, NN, VBN, IN, NNP, NNP, NN, IN, JJ, JJ, NN...  0.114583   \n",
      "27   [PRP, MD, VB, VBG, IN, DT, JJ, NN, IN, NNP, NN... -0.218750   \n",
      "28   [RB, DT, VBN, TO, VB, WP, VBP, JJ, CC, JJ, IN,...  0.079167   \n",
      "29   [PRP, MD, VB, VBG, PRP$, NNP, NNP, NN, IN, NNP...  0.000000   \n",
      "..                                                 ...       ...   \n",
      "469  [NNP, IN, NNP, NNP, IN, PRP$, NN, IN, DT, JJ, ...  0.650000   \n",
      "470  [NNP, VBZ, VBN, NN, IN, PRP$, NN, NNS, IN, NNP... -0.468750   \n",
      "471  [VBP, RB, VB, DT, JJ, NNS, VBP, PRP, IN, PRP, ... -0.250000   \n",
      "472  [NNS, IN, DT, NNP, NNPS, NNP, NNP, NNP, POS, N...  0.350000   \n",
      "473  [NNP, NNP, NNP, IN, VBG, NNP, CC, NNP, NNP, IN...  0.000000   \n",
      "474  [RB, DT, NNP, NNP, NNS, IN, DT, NN, CC, NN, RB... -0.083333   \n",
      "475  [IN, IN, PRP$, RB, JJ, NN, IN, JJ, NNS, VBZ, N...  0.250000   \n",
      "476  [DT, NNP, NNP, WDT, VBZ, DT, JJ, NN, IN, VBG, ... -0.600000   \n",
      "477  [DT, NNP, VBD, PRP$, JJS, JJ, NN, IN, CD, NNS,... -0.236667   \n",
      "478  [JJ, NNP, TO, PRP$, NN, NNP, NNP, NN, JJ, NN, NN]  1.000000   \n",
      "479  [NN, PRP, VBD, DT, NN, NN, VBD, DT, NNP, NNP, ...  0.000000   \n",
      "480  [NN, PRP, VBD, DT, NN, NN, IN, VBG, JJ, NNS, I...  0.000000   \n",
      "481  [DT, JJ, JJ, NN, TO, VB, CC, VB, VB, DT, NNP, ...  0.800000   \n",
      "482  [NNPS, VBP, VBG, TO, VB, RP, NN, NNS, IN, JJ, ... -0.662500   \n",
      "483  [PRP, VBD, NNS, IN, DT, NNP, IN, NNP, CC, DT, ...  0.000000   \n",
      "484  [NN, TO, DT, NN, IN, IN, PRP, VBP, RB, VB, DT,...  0.350000   \n",
      "485  [DT, NNPS, VBP, TO, VB, NN, IN, PRP, VBP, RB, ... -0.395833   \n",
      "486  [PRP, VBP, TO, VB, PRP$, NNS, IN, DT, NNPS, VB...  0.000000   \n",
      "487  [PRP, VBP, TO, VB, PRP$, JJ, CC, VB, PRP$, NN,...  0.035185   \n",
      "488  [WP, VBZ, JJR, JJ, VBG, PRP$, JJ, CC, VBG, RP,...  0.266667   \n",
      "489  [NNPS, VBG, DT, NN, IN, PRP$, NNS, TO, VB, RP,...  0.000000   \n",
      "490  [NNPS, VBD, TO, VB, NN, NN, VBP, RB, PRP, VBP,...  0.000000   \n",
      "491  [IN, NNS, VBP, IN, NN, NNS, IN, PRP$, NNP, NNP... -0.577778   \n",
      "492  [NN, NNP, NNP, CC, PRP, VBD, VBN, TO, VB, NNP,...  0.525000   \n",
      "493  [JJ, NNP, IN, DT, NNP, NNP, NNP, NNP, NN, NN, ...  0.000000   \n",
      "494  [NN, PRP, VBD, DT, NN, NN, IN, VBG, NNP, CC, N...  0.000000   \n",
      "495  [NNP, NNP, VBZ, NNP, NNP, NNP, POS, CD, NNP, N... -0.433333   \n",
      "496  [PRP, VBP, VBG, JJ, NN, IN, DT, NNP, NNP, EX, ...  0.372917   \n",
      "497  [PRP, MD, VB, VBN, IN, NNP, NNP, IN, NNP, NNP,...  0.500000   \n",
      "498  [NNP, NNP, VBD, DT, NNS, IN, NNP, CC, NN, PRP$... -0.357500   \n",
      "\n",
      "     subjectivity                                       noun_phrases  \n",
      "0        0.000000          [the movement continues, the work begins]  \n",
      "1        0.500000                                                 []  \n",
      "2        0.000000  [washington, d.c., american people, inaugurati...  \n",
      "3        0.000000                                                 []  \n",
      "4        0.000000                                          [january]  \n",
      "5        0.000000                    [forgotten men, americafirst🇺🇸]  \n",
      "6        0.000000                                                 []  \n",
      "7        0.119048  [simple rules, buy american, hire american, in...  \n",
      "8        0.000000                                        [... https]  \n",
      "9        0.557143                               [mountain ... https]  \n",
      "10       0.000000                               [to all americans🇺🇸]  \n",
      "11       0.875000  [thank you, wonderful evening, washington, d.c...  \n",
      "12       0.631250  [fantastic day, washington d.c.thank, foxnews,...  \n",
      "13       0.000000    [rt, whitehouse, heart, fight, spirit, america]  \n",
      "14       0.640000  [great meeting, cia, great respect, wall, amaz...  \n",
      "15       0.666667                     [watched, people vote, celebs]  \n",
      "16       0.760000            [wow, television ratings, good ratings]  \n",
      "17       0.500000                                         [peaceful]  \n",
      "18       0.433333  [busy, heavy focus, national security, top, am...  \n",
      "19       0.477273  [will, top automobile executives, america, new...  \n",
      "20       0.000000             [upper/lower press hall, thank, abbas]  \n",
      "21       0.750000  [great meeting, automobile industry leaders, w...  \n",
      "22       0.000000   [signing, keystone xl, dakota access, oval off…]  \n",
      "23       0.625000  [great meeting, ford ceo mark, motors ceo mary...  \n",
      "24       0.541905  [congratulations, foxnews, inauguration rating...  \n",
      "25       1.000000                           [chicago, n't fix, feds]  \n",
      "26       0.325000                       [big day, national security]  \n",
      "27       0.500000                 [major investigation, voter fraud]  \n",
      "28       0.433333                             [long time, depending]  \n",
      "29       0.000000                                    [supreme court]  \n",
      "..            ...                                                ...  \n",
      "469      1.000000  [proud, ivankatrump, important issues, looking...  \n",
      "470      0.687500  [canada, dairy farmers, wisconsin, border stat...  \n",
      "471      0.550000                                 [fake media, wall]  \n",
      "472      0.550000  [remarks, holocaust, memorial museum 's, remem...  \n",
      "473      0.000000  [presidential executive order, promoting, pros...  \n",
      "474      0.666667  [circuit rules, sanctuary cities-both, ridicul...  \n",
      "475      0.315000                                      [big country]  \n",
      "476      0.700000                           [terrible record, messy]  \n",
      "477      0.688889  [u.s., economic growth, gdp, trade deficits hurt]  \n",
      "478      1.000000  [happy birthday, flotus, melania, //t.co/ryyp5...  \n",
      "479      0.000000  [executive order @, u.s. dept, interior, desig...  \n",
      "480      0.000000  [executive order, enforcing statutory prohibit...  \n",
      "481      0.800000  [great great honor, teacher, teacher, year fro...  \n",
      "482      0.900000  [insurance companies, disastrous #, obamacare,...  \n",
      "483      0.000000                     [mexico, prime, canada, nafta]  \n",
      "484      0.950000                [... subject, nafta, relationships]  \n",
      "485      0.300000  [shut government, n't bail, puerto rico, insur...  \n",
      "486      0.000000                                                 []  \n",
      "487      0.329630                                         [politics]  \n",
      "488      0.533333                  [rebuilding, insurance companies]  \n",
      "489      0.000000              [insurance companies, americafirst🇺🇸]  \n",
      "490      0.000000                        [support border security —]  \n",
      "491      0.644444                [summer vacations, parks, terrible]  \n",
      "492      0.616667  [flotus melania, argentina, president @, mauri...  \n",
      "493      0.000000  [memorandum, commercegov, secretaryross, alumi...  \n",
      "494      0.000000  [executive order, improving accountability, wh...  \n",
      "495      0.666667  [rt, @ foxandfriends, obama, 's $ 400k, wall, ...  \n",
      "496      0.575000                    [tremendous progress, v., vets]  \n",
      "497      0.500000                  [marthamaccallum, foxnews, enjoy]  \n",
      "498      0.603333                                     [korea, china]  \n",
      "\n",
      "[499 rows x 47 columns]\n"
     ]
    }
   ],
   "source": [
    "print(data)"
   ]
  },
  {
   "cell_type": "code",
   "execution_count": 223,
   "metadata": {
    "collapsed": true
   },
   "outputs": [],
   "source": [
    "data.to_csv('data/data_100days.csv')"
   ]
  },
  {
   "cell_type": "markdown",
   "metadata": {},
   "source": [
    "## Frequencies"
   ]
  },
  {
   "cell_type": "code",
   "execution_count": 234,
   "metadata": {
    "collapsed": false
   },
   "outputs": [
    {
     "name": "stdout",
     "output_type": "stream",
     "text": [
      "[('.', 714), ('the', 379), (',', 322), ('!', 269), ('to', 248), ('t', 211), ('and', 203), ('/', 201), ('https', 187), ('://', 186), ('co', 185), ('@', 185), ('of', 166), ('in', 154), ('is', 127), ('a', 119), ('for', 104), ('will', 96), ('on', 94), (\"'\", 91), (':', 86), ('-', 79), ('with', 76), ('I', 75), ('our', 75), ('#', 73), ('be', 71), ('&', 70), ('amp', 70), (';', 70), ('The', 68), ('are', 67), ('\"', 67), ('at', 65), ('that', 63), ('great', 47), ('by', 46), ('have', 46), ('you', 45), ('…', 45), ('it', 42), ('we', 41), ('not', 41), ('was', 40), ('(', 40), ('A', 38), ('from', 38), ('S', 37), ('U', 35), ('We', 34), ('my', 33), ('...', 32), ('this', 32), ('very', 31), ('s', 30), ('?', 29), ('today', 28), ('media', 27), ('Trump', 27), ('people', 26), ('an', 26), ('out', 26), ('It', 25), ('so', 25), ('RT', 25), ('President', 25), ('has', 25), ('country', 24), ('me', 24), ('all', 23), ('as', 23), ('WhiteHouse', 23), ('Great', 23), ('they', 23), (')', 23), ('FAKE', 22), ('American', 21), ('election', 21), ('Obama', 21), ('Democrats', 21), ('Russia', 21), ('Thank', 20), ('NEWS', 20), ('who', 20), ('big', 19), ('up', 18), ('foxandfriends', 18), ('00', 17), ('going', 17), ('meeting', 17), ('just', 17), ('been', 17), ('would', 17), ('about', 17), ('M', 16), ('time', 16), ('their', 16), ('were', 16), ('House', 16), ('should', 16)]\n"
     ]
    }
   ],
   "source": [
    "from itertools import chain\n",
    "from collections import Counter\n",
    "from nltk.tokenize import wordpunct_tokenize\n",
    "texts=[]\n",
    "\n",
    "for entry in data_tagged['text']:\n",
    "    texts.append(entry)\n",
    "\n",
    "# print(texts)\n",
    "\n",
    "print(Counter(chain.from_iterable(wordpunct_tokenize(x) for x in texts)).most_common(100))"
   ]
  },
  {
   "cell_type": "code",
   "execution_count": 235,
   "metadata": {
    "collapsed": false
   },
   "outputs": [
    {
     "name": "stdout",
     "output_type": "stream",
     "text": [
      "['.', 'the', ',', '!', 'to', 't', 'and', '/', 'https', '://', 'co', '@', 'of', 'in', 'is', 'a', 'for', 'will', 'on', \"'\", ':', '-', 'with', 'I', 'our', '#', 'be', '&', 'amp', ';', 'The', 'are', '\"', 'at', 'that', 'great', 'by', 'have', 'you', '…', 'it', 'we', 'not', 'was', '(', 'A', 'from', 'S', 'U', 'We', 'my', '...', 'this', 'very', 's', '?', 'today', 'media', 'Trump', 'people', 'an', 'out', 'It', 'so', 'RT', 'President', 'has', 'country', 'me', 'all', 'as', 'WhiteHouse', 'Great', 'they', ')', 'FAKE', 'American', 'election', 'Obama', 'Democrats', 'Russia', 'Thank', 'NEWS', 'who', 'big', 'up', 'foxandfriends', '00', 'going', 'meeting', 'just', 'been', 'would', 'about', 'M', 'time', 'their', 'were', 'House', 'should']\n"
     ]
    }
   ],
   "source": [
    "from nltk.tokenize import wordpunct_tokenize\n",
    "from collections import defaultdict\n",
    "\n",
    "freq_dict = defaultdict(int)\n",
    "\n",
    "for entry in data_tagged['text']:\n",
    "   tokens = wordpunct_tokenize(entry)\n",
    "   for token in tokens:\n",
    "       freq_dict[token] += 1\n",
    "# get top after all posts have been processed.\n",
    "top = sorted(freq_dict, key=freq_dict.get, reverse=True)\n",
    "top = top[:100]\n",
    "print(top)"
   ]
  },
  {
   "cell_type": "code",
   "execution_count": null,
   "metadata": {
    "collapsed": true
   },
   "outputs": [],
   "source": []
  },
  {
   "cell_type": "code",
   "execution_count": null,
   "metadata": {
    "collapsed": true
   },
   "outputs": [],
   "source": []
  },
  {
   "cell_type": "code",
   "execution_count": null,
   "metadata": {
    "collapsed": true
   },
   "outputs": [],
   "source": []
  }
 ],
 "metadata": {
  "kernelspec": {
   "display_name": "Python 3",
   "language": "python",
   "name": "python3"
  },
  "language_info": {
   "codemirror_mode": {
    "name": "ipython",
    "version": 3
   },
   "file_extension": ".py",
   "mimetype": "text/x-python",
   "name": "python",
   "nbconvert_exporter": "python",
   "pygments_lexer": "ipython3",
   "version": "3.6.0"
  }
 },
 "nbformat": 4,
 "nbformat_minor": 2
}
