{
 "cells": [
  {
   "cell_type": "code",
   "execution_count": 20,
   "metadata": {
    "collapsed": true
   },
   "outputs": [],
   "source": [
    "import numpy as np\n",
    "import pandas as pd"
   ]
  },
  {
   "cell_type": "code",
   "execution_count": 18,
   "metadata": {
    "collapsed": false
   },
   "outputs": [],
   "source": [
    "import json\n",
    "\n",
    "with open('data/master_2017.json') as json_data:\n",
    "    d = json.load(json_data)"
   ]
  },
  {
   "cell_type": "code",
   "execution_count": 23,
   "metadata": {
    "collapsed": false
   },
   "outputs": [],
   "source": [
    "with open('data/master_2017.json') as json_data:\n",
    "    data = pd.read_json(json_data)"
   ]
  },
  {
   "cell_type": "code",
   "execution_count": 26,
   "metadata": {
    "collapsed": false
   },
   "outputs": [
    {
     "name": "stdout",
     "output_type": "stream",
     "text": [
      "<class 'pandas.core.frame.DataFrame'>\n"
     ]
    }
   ],
   "source": [
    "print(type(data))"
   ]
  },
  {
   "cell_type": "code",
   "execution_count": 29,
   "metadata": {
    "collapsed": false
   },
   "outputs": [
    {
     "name": "stdout",
     "output_type": "stream",
     "text": [
      "(937, 29)\n"
     ]
    }
   ],
   "source": [
    "print(data.shape)"
   ]
  },
  {
   "cell_type": "code",
   "execution_count": 31,
   "metadata": {
    "collapsed": false
   },
   "outputs": [
    {
     "name": "stdout",
     "output_type": "stream",
     "text": [
      "   contributors  coordinates          created_at  \\\n",
      "0           NaN          NaN 2017-06-21 23:48:58   \n",
      "1           NaN          NaN 2017-06-21 23:04:54   \n",
      "2           NaN          NaN 2017-06-21 10:32:46   \n",
      "3           NaN          NaN 2017-06-21 03:48:37   \n",
      "4           NaN          NaN 2017-06-21 03:12:00   \n",
      "\n",
      "                                            entities extended_entities  \\\n",
      "0  {'symbols': [], 'user_mentions': [], 'hashtags...               NaN   \n",
      "1  {'symbols': [], 'user_mentions': [], 'hashtags...               NaN   \n",
      "2  {'symbols': [], 'user_mentions': [], 'hashtags...               NaN   \n",
      "3  {'symbols': [], 'user_mentions': [], 'hashtags...               NaN   \n",
      "4  {'symbols': [], 'user_mentions': [], 'hashtags...               NaN   \n",
      "\n",
      "   favorite_count favorited  geo                  id              id_str  \\\n",
      "0           22862     False  NaN  877674738364989440  877674738364989440   \n",
      "1           37569     False  NaN  877663648713330688  877663648713330688   \n",
      "2           99015     False  NaN  877474368661618688  877474368661618688   \n",
      "3          117521     False  NaN  877372660455546880  877372660455546880   \n",
      "4           73883     False  NaN  877363446530007040  877363446530007040   \n",
      "\n",
      "                         ...                         quoted_status  \\\n",
      "0                        ...                                   NaN   \n",
      "1                        ...                                   NaN   \n",
      "2                        ...                                   NaN   \n",
      "3                        ...                                   NaN   \n",
      "4                        ...                                   NaN   \n",
      "\n",
      "   quoted_status_id  quoted_status_id_str  retweet_count  retweeted  \\\n",
      "0               NaN                   NaN           4537      False   \n",
      "1               NaN                   NaN           6035      False   \n",
      "2               NaN                   NaN          24342      False   \n",
      "3               NaN                   NaN          32528      False   \n",
      "4               NaN                   NaN          14787      False   \n",
      "\n",
      "  retweeted_status                                             source  \\\n",
      "0              NaN  <a href=\"http://twitter.com/download/iphone\" r...   \n",
      "1              NaN  <a href=\"http://twitter.com/download/iphone\" r...   \n",
      "2              NaN  <a href=\"http://twitter.com/download/iphone\" r...   \n",
      "3              NaN  <a href=\"http://twitter.com/download/iphone\" r...   \n",
      "4              NaN  <a href=\"http://twitter.com/download/iphone\" r...   \n",
      "\n",
      "                                                text  truncated  \\\n",
      "0  Thank you Kirkwood Community College. Heading ...       True   \n",
      "1    Just landed in Iowa. See everyone soon! #MAGA🇺🇸      False   \n",
      "2  Democrats would do much better as a party if t...      False   \n",
      "3  Well, the Special Elections are over and those...      False   \n",
      "4  Ralph Norman ran a fantastic race to win in th...      False   \n",
      "\n",
      "                                                user  \n",
      "0  {'follow_request_sent': False, 'has_extended_p...  \n",
      "1  {'follow_request_sent': False, 'has_extended_p...  \n",
      "2  {'follow_request_sent': False, 'has_extended_p...  \n",
      "3  {'follow_request_sent': False, 'has_extended_p...  \n",
      "4  {'follow_request_sent': False, 'has_extended_p...  \n",
      "\n",
      "[5 rows x 29 columns]\n"
     ]
    }
   ],
   "source": [
    "print(data.head(5))"
   ]
  },
  {
   "cell_type": "code",
   "execution_count": 33,
   "metadata": {
    "collapsed": false
   },
   "outputs": [],
   "source": [
    "data = data.loc[data['created_at'] > '2017-01-20']"
   ]
  },
  {
   "cell_type": "code",
   "execution_count": 34,
   "metadata": {
    "collapsed": true
   },
   "outputs": [],
   "source": [
    "data = data.loc[data['created_at'] < '2017-04-29']"
   ]
  },
  {
   "cell_type": "code",
   "execution_count": 48,
   "metadata": {
    "collapsed": false
   },
   "outputs": [],
   "source": [
    "data_entities = data['entities'].apply(pd.Series)"
   ]
  },
  {
   "cell_type": "code",
   "execution_count": 52,
   "metadata": {
    "collapsed": false
   },
   "outputs": [
    {
     "name": "stdout",
     "output_type": "stream",
     "text": [
      "                                                     0    1\n",
      "295                                                NaN  NaN\n",
      "296                                                NaN  NaN\n",
      "297                                                NaN  NaN\n",
      "298                                                NaN  NaN\n",
      "299  {'url': 'https://t.co/UQ6VNCyhlj', 'indices': ...  NaN\n",
      "300  {'url': 'https://t.co/GnKoVz9GTO', 'indices': ...  NaN\n",
      "301  {'url': 'https://t.co/gR3EPznu1H', 'indices': ...  NaN\n",
      "302                                                NaN  NaN\n",
      "303                                                NaN  NaN\n",
      "304                                                NaN  NaN\n",
      "305                                                NaN  NaN\n",
      "306                                                NaN  NaN\n",
      "307                                                NaN  NaN\n",
      "308                                                NaN  NaN\n",
      "309                                                NaN  NaN\n",
      "310                                                NaN  NaN\n",
      "311                                                NaN  NaN\n",
      "312  {'url': 'https://t.co/pUGl7RDoVX', 'indices': ...  NaN\n",
      "313  {'url': 'https://t.co/YYafFQncbC', 'indices': ...  NaN\n",
      "314  {'url': 'https://t.co/Eq6JDzMqTY', 'indices': ...  NaN\n",
      "315  {'url': 'https://t.co/rYYp51mxDQ', 'indices': ...  NaN\n",
      "316                                                NaN  NaN\n",
      "317                                                NaN  NaN\n",
      "318                                                NaN  NaN\n",
      "319                                                NaN  NaN\n",
      "320  {'url': 'https://t.co/LVMjZ9Ax0U', 'indices': ...  NaN\n",
      "321  {'url': 'https://t.co/BJbI6ZtGo7', 'indices': ...  NaN\n",
      "322                                                NaN  NaN\n",
      "323                                                NaN  NaN\n",
      "324  {'url': 'https://t.co/e6Uajrm8zp', 'indices': ...  NaN\n",
      "..                                                 ...  ...\n",
      "766                                                NaN  NaN\n",
      "767                                                NaN  NaN\n",
      "768                                                NaN  NaN\n",
      "769                                                NaN  NaN\n",
      "770                                                NaN  NaN\n",
      "771  {'url': 'https://t.co/aOxmfO0vOK', 'indices': ...  NaN\n",
      "772                                                NaN  NaN\n",
      "773                                                NaN  NaN\n",
      "774                                                NaN  NaN\n",
      "775                                                NaN  NaN\n",
      "776                                                NaN  NaN\n",
      "777                                                NaN  NaN\n",
      "778                                                NaN  NaN\n",
      "779                                                NaN  NaN\n",
      "780                                                NaN  NaN\n",
      "781                                                NaN  NaN\n",
      "782                                                NaN  NaN\n",
      "783  {'url': 'https://t.co/D7Es6ie4fY', 'indices': ...  NaN\n",
      "784  {'url': 'https://t.co/cZKkrGXLSi', 'indices': ...  NaN\n",
      "785  {'url': 'https://t.co/ZKyOiOor62', 'indices': ...  NaN\n",
      "786                                                NaN  NaN\n",
      "787                                                NaN  NaN\n",
      "788                                                NaN  NaN\n",
      "789                                                NaN  NaN\n",
      "790                                                NaN  NaN\n",
      "791                                                NaN  NaN\n",
      "792                                                NaN  NaN\n",
      "793                                                NaN  NaN\n",
      "794                                                NaN  NaN\n",
      "795  {'url': 'https://t.co/OSxa3BamHs', 'indices': ...  NaN\n",
      "\n",
      "[501 rows x 2 columns]\n"
     ]
    }
   ],
   "source": [
    "data_entities_urls = data_entities['urls'].apply(pd.Series)\n",
    "print(data_entities_urls)"
   ]
  },
  {
   "cell_type": "code",
   "execution_count": 54,
   "metadata": {
    "collapsed": false
   },
   "outputs": [
    {
     "name": "stderr",
     "output_type": "stream",
     "text": [
      "/Users/samvickars/anaconda/lib/python3.6/site-packages/pandas/indexes/api.py:37: RuntimeWarning: '>' not supported between instances of 'str' and 'int', sort order is undefined for incomparable objects\n",
      "  union = _union_indexes(indexes)\n",
      "/Users/samvickars/anaconda/lib/python3.6/site-packages/pandas/indexes/api.py:71: RuntimeWarning: '>' not supported between instances of 'str' and 'int', sort order is undefined for incomparable objects\n",
      "  result = result.union(other)\n"
     ]
    },
    {
     "name": "stdout",
     "output_type": "stream",
     "text": [
      "      0                   display_url  \\\n",
      "295 NaN                           NaN   \n",
      "296 NaN                           NaN   \n",
      "297 NaN                           NaN   \n",
      "298 NaN                           NaN   \n",
      "299 NaN   twitter.com/i/web/status/8…   \n",
      "300 NaN   twitter.com/i/web/status/8…   \n",
      "301 NaN   twitter.com/i/web/status/8…   \n",
      "302 NaN                           NaN   \n",
      "303 NaN                           NaN   \n",
      "304 NaN                           NaN   \n",
      "305 NaN                           NaN   \n",
      "306 NaN                           NaN   \n",
      "307 NaN                           NaN   \n",
      "308 NaN                           NaN   \n",
      "309 NaN                           NaN   \n",
      "310 NaN                           NaN   \n",
      "311 NaN                           NaN   \n",
      "312 NaN   twitter.com/i/web/status/8…   \n",
      "313 NaN   twitter.com/i/web/status/8…   \n",
      "314 NaN   twitter.com/i/web/status/8…   \n",
      "315 NaN              45.wh.gov/9zVkh6   \n",
      "316 NaN                           NaN   \n",
      "317 NaN                           NaN   \n",
      "318 NaN                           NaN   \n",
      "319 NaN                           NaN   \n",
      "320 NaN   twitter.com/i/web/status/8…   \n",
      "321 NaN   twitter.com/i/web/status/8…   \n",
      "322 NaN                           NaN   \n",
      "323 NaN                           NaN   \n",
      "324 NaN        ft.com/content/4d028a…   \n",
      "..   ..                           ...   \n",
      "766 NaN                           NaN   \n",
      "767 NaN                           NaN   \n",
      "768 NaN                           NaN   \n",
      "769 NaN                           NaN   \n",
      "770 NaN                           NaN   \n",
      "771 NaN   twitter.com/i/web/status/8…   \n",
      "772 NaN                           NaN   \n",
      "773 NaN                           NaN   \n",
      "774 NaN                           NaN   \n",
      "775 NaN                           NaN   \n",
      "776 NaN                           NaN   \n",
      "777 NaN                           NaN   \n",
      "778 NaN                           NaN   \n",
      "779 NaN                           NaN   \n",
      "780 NaN                           NaN   \n",
      "781 NaN                           NaN   \n",
      "782 NaN                           NaN   \n",
      "783 NaN  facebook.com/DonaldTrump/po…   \n",
      "784 NaN  facebook.com/DonaldTrump/po…   \n",
      "785 NaN  facebook.com/DonaldTrump/po…   \n",
      "786 NaN                           NaN   \n",
      "787 NaN                           NaN   \n",
      "788 NaN                           NaN   \n",
      "789 NaN                           NaN   \n",
      "790 NaN                           NaN   \n",
      "791 NaN                           NaN   \n",
      "792 NaN                           NaN   \n",
      "793 NaN                           NaN   \n",
      "794 NaN                           NaN   \n",
      "795 NaN   twitter.com/i/web/status/8…   \n",
      "\n",
      "                                          expanded_url     indices  \\\n",
      "295                                                NaN         NaN   \n",
      "296                                                NaN         NaN   \n",
      "297                                                NaN         NaN   \n",
      "298                                                NaN         NaN   \n",
      "299  https://twitter.com/i/web/status/8577268840454...  [117, 140]   \n",
      "300  https://twitter.com/i/web/status/8577116519525...  [117, 140]   \n",
      "301  https://twitter.com/i/web/status/8576705624785...  [117, 140]   \n",
      "302                                                NaN         NaN   \n",
      "303                                                NaN         NaN   \n",
      "304                                                NaN         NaN   \n",
      "305                                                NaN         NaN   \n",
      "306                                                NaN         NaN   \n",
      "307                                                NaN         NaN   \n",
      "308                                                NaN         NaN   \n",
      "309                                                NaN         NaN   \n",
      "310                                                NaN         NaN   \n",
      "311                                                NaN         NaN   \n",
      "312  https://twitter.com/i/web/status/8573605105342...  [121, 144]   \n",
      "313  https://twitter.com/i/web/status/8573357932615...  [109, 132]   \n",
      "314  https://twitter.com/i/web/status/8572957319290...  [117, 140]   \n",
      "315                            http://45.wh.gov/9zVkh6    [41, 64]   \n",
      "316                                                NaN         NaN   \n",
      "317                                                NaN         NaN   \n",
      "318                                                NaN         NaN   \n",
      "319                                                NaN         NaN   \n",
      "320  https://twitter.com/i/web/status/8570144130811...  [106, 129]   \n",
      "321  https://twitter.com/i/web/status/8569285551791...  [103, 126]   \n",
      "322                                                NaN         NaN   \n",
      "323                                                NaN         NaN   \n",
      "324  https://www.ft.com/content/4d028aae-28f2-11e7-...  [117, 140]   \n",
      "..                                                 ...         ...   \n",
      "766                                                NaN         NaN   \n",
      "767                                                NaN         NaN   \n",
      "768                                                NaN         NaN   \n",
      "769                                                NaN         NaN   \n",
      "770                                                NaN         NaN   \n",
      "771  https://twitter.com/i/web/status/8239508141631...  [117, 140]   \n",
      "772                                                NaN         NaN   \n",
      "773                                                NaN         NaN   \n",
      "774                                                NaN         NaN   \n",
      "775                                                NaN         NaN   \n",
      "776                                                NaN         NaN   \n",
      "777                                                NaN         NaN   \n",
      "778                                                NaN         NaN   \n",
      "779                                                NaN         NaN   \n",
      "780                                                NaN         NaN   \n",
      "781                                                NaN         NaN   \n",
      "782                                                NaN         NaN   \n",
      "783  https://www.facebook.com/DonaldTrump/posts/101...    [19, 42]   \n",
      "784  https://www.facebook.com/DonaldTrump/posts/101...   [94, 117]   \n",
      "785  https://www.facebook.com/DonaldTrump/posts/101...    [30, 53]   \n",
      "786                                                NaN         NaN   \n",
      "787                                                NaN         NaN   \n",
      "788                                                NaN         NaN   \n",
      "789                                                NaN         NaN   \n",
      "790                                                NaN         NaN   \n",
      "791                                                NaN         NaN   \n",
      "792                                                NaN         NaN   \n",
      "793                                                NaN         NaN   \n",
      "794                                                NaN         NaN   \n",
      "795  https://twitter.com/i/web/status/8222424490536...  [117, 140]   \n",
      "\n",
      "                         url  \n",
      "295                      NaN  \n",
      "296                      NaN  \n",
      "297                      NaN  \n",
      "298                      NaN  \n",
      "299  https://t.co/UQ6VNCyhlj  \n",
      "300  https://t.co/GnKoVz9GTO  \n",
      "301  https://t.co/gR3EPznu1H  \n",
      "302                      NaN  \n",
      "303                      NaN  \n",
      "304                      NaN  \n",
      "305                      NaN  \n",
      "306                      NaN  \n",
      "307                      NaN  \n",
      "308                      NaN  \n",
      "309                      NaN  \n",
      "310                      NaN  \n",
      "311                      NaN  \n",
      "312  https://t.co/pUGl7RDoVX  \n",
      "313  https://t.co/YYafFQncbC  \n",
      "314  https://t.co/Eq6JDzMqTY  \n",
      "315  https://t.co/rYYp51mxDQ  \n",
      "316                      NaN  \n",
      "317                      NaN  \n",
      "318                      NaN  \n",
      "319                      NaN  \n",
      "320  https://t.co/LVMjZ9Ax0U  \n",
      "321  https://t.co/BJbI6ZtGo7  \n",
      "322                      NaN  \n",
      "323                      NaN  \n",
      "324  https://t.co/e6Uajrm8zp  \n",
      "..                       ...  \n",
      "766                      NaN  \n",
      "767                      NaN  \n",
      "768                      NaN  \n",
      "769                      NaN  \n",
      "770                      NaN  \n",
      "771  https://t.co/aOxmfO0vOK  \n",
      "772                      NaN  \n",
      "773                      NaN  \n",
      "774                      NaN  \n",
      "775                      NaN  \n",
      "776                      NaN  \n",
      "777                      NaN  \n",
      "778                      NaN  \n",
      "779                      NaN  \n",
      "780                      NaN  \n",
      "781                      NaN  \n",
      "782                      NaN  \n",
      "783  https://t.co/D7Es6ie4fY  \n",
      "784  https://t.co/cZKkrGXLSi  \n",
      "785  https://t.co/ZKyOiOor62  \n",
      "786                      NaN  \n",
      "787                      NaN  \n",
      "788                      NaN  \n",
      "789                      NaN  \n",
      "790                      NaN  \n",
      "791                      NaN  \n",
      "792                      NaN  \n",
      "793                      NaN  \n",
      "794                      NaN  \n",
      "795  https://t.co/OSxa3BamHs  \n",
      "\n",
      "[501 rows x 5 columns]\n"
     ]
    }
   ],
   "source": [
    "data_entities_urls_0 = data_entities_urls[0].apply(pd.Series)\n",
    "print(data_entities_urls_0)"
   ]
  },
  {
   "cell_type": "code",
   "execution_count": 62,
   "metadata": {
    "collapsed": false
   },
   "outputs": [
    {
     "name": "stdout",
     "output_type": "stream",
     "text": [
      "295                            NaN\n",
      "296                            NaN\n",
      "297                            NaN\n",
      "298                            NaN\n",
      "299    twitter.com/i/web/status/8…\n",
      "Name: url1, dtype: object\n"
     ]
    }
   ],
   "source": [
    "data_entities['url1'] = data_entities_urls_0['display_url']\n",
    "print(data_entities['url1'].head(5))"
   ]
  },
  {
   "cell_type": "code",
   "execution_count": 69,
   "metadata": {
    "collapsed": false
   },
   "outputs": [
    {
     "name": "stderr",
     "output_type": "stream",
     "text": [
      "/Users/samvickars/anaconda/lib/python3.6/site-packages/pandas/indexes/api.py:71: RuntimeWarning: '>' not supported between instances of 'str' and 'int', sort order is undefined for incomparable objects\n",
      "  result = result.union(other)\n",
      "/Users/samvickars/anaconda/lib/python3.6/site-packages/pandas/indexes/api.py:37: RuntimeWarning: '>' not supported between instances of 'str' and 'int', sort order is undefined for incomparable objects\n",
      "  union = _union_indexes(indexes)\n"
     ]
    }
   ],
   "source": [
    "data_entities_hashtags = data_entities_hashtags[0].apply(pd.Series)"
   ]
  },
  {
   "cell_type": "code",
   "execution_count": 76,
   "metadata": {
    "collapsed": false
   },
   "outputs": [
    {
     "name": "stdout",
     "output_type": "stream",
     "text": [
      "    hashtags media symbols urls user_mentions url1 hashtag\n",
      "295       []   NaN      []   []            []  NaN     NaN\n"
     ]
    }
   ],
   "source": [
    "data_entities['hashtag'] = data_entities_hashtags['text']\n",
    "print(data_entities.head(1))"
   ]
  },
  {
   "cell_type": "code",
   "execution_count": 149,
   "metadata": {
    "collapsed": false
   },
   "outputs": [
    {
     "name": "stdout",
     "output_type": "stream",
     "text": [
      "      0  contributors  coordinates created_at entities  favorite_count  \\\n",
      "295 NaN           NaN          NaN        NaN      NaN             NaN   \n",
      "296 NaN           NaN          NaN        NaN      NaN             NaN   \n",
      "297 NaN           NaN          NaN        NaN      NaN             NaN   \n",
      "298 NaN           NaN          NaN        NaN      NaN             NaN   \n",
      "299 NaN           NaN          NaN        NaN      NaN             NaN   \n",
      "300 NaN           NaN          NaN        NaN      NaN             NaN   \n",
      "301 NaN           NaN          NaN        NaN      NaN             NaN   \n",
      "302 NaN           NaN          NaN        NaN      NaN             NaN   \n",
      "303 NaN           NaN          NaN        NaN      NaN             NaN   \n",
      "304 NaN           NaN          NaN        NaN      NaN             NaN   \n",
      "305 NaN           NaN          NaN        NaN      NaN             NaN   \n",
      "306 NaN           NaN          NaN        NaN      NaN             NaN   \n",
      "307 NaN           NaN          NaN        NaN      NaN             NaN   \n",
      "308 NaN           NaN          NaN        NaN      NaN             NaN   \n",
      "309 NaN           NaN          NaN        NaN      NaN             NaN   \n",
      "310 NaN           NaN          NaN        NaN      NaN             NaN   \n",
      "311 NaN           NaN          NaN        NaN      NaN             NaN   \n",
      "312 NaN           NaN          NaN        NaN      NaN             NaN   \n",
      "313 NaN           NaN          NaN        NaN      NaN             NaN   \n",
      "314 NaN           NaN          NaN        NaN      NaN             NaN   \n",
      "315 NaN           NaN          NaN        NaN      NaN             NaN   \n",
      "316 NaN           NaN          NaN        NaN      NaN             NaN   \n",
      "317 NaN           NaN          NaN        NaN      NaN             NaN   \n",
      "318 NaN           NaN          NaN        NaN      NaN             NaN   \n",
      "319 NaN           NaN          NaN        NaN      NaN             NaN   \n",
      "320 NaN           NaN          NaN        NaN      NaN             NaN   \n",
      "321 NaN           NaN          NaN        NaN      NaN             NaN   \n",
      "322 NaN           NaN          NaN        NaN      NaN             NaN   \n",
      "323 NaN           NaN          NaN        NaN      NaN             NaN   \n",
      "324 NaN           NaN          NaN        NaN      NaN             NaN   \n",
      "..   ..           ...          ...        ...      ...             ...   \n",
      "766 NaN           NaN          NaN        NaN      NaN             NaN   \n",
      "767 NaN           NaN          NaN        NaN      NaN             NaN   \n",
      "768 NaN           NaN          NaN        NaN      NaN             NaN   \n",
      "769 NaN           NaN          NaN        NaN      NaN             NaN   \n",
      "770 NaN           NaN          NaN        NaN      NaN             NaN   \n",
      "771 NaN           NaN          NaN        NaN      NaN             NaN   \n",
      "772 NaN           NaN          NaN        NaN      NaN             NaN   \n",
      "773 NaN           NaN          NaN        NaN      NaN             NaN   \n",
      "774 NaN           NaN          NaN        NaN      NaN             NaN   \n",
      "775 NaN           NaN          NaN        NaN      NaN             NaN   \n",
      "776 NaN           NaN          NaN        NaN      NaN             NaN   \n",
      "777 NaN           NaN          NaN        NaN      NaN             NaN   \n",
      "778 NaN           NaN          NaN        NaN      NaN             NaN   \n",
      "779 NaN           NaN          NaN        NaN      NaN             NaN   \n",
      "780 NaN           NaN          NaN        NaN      NaN             NaN   \n",
      "781 NaN           NaN          NaN        NaN      NaN             NaN   \n",
      "782 NaN           NaN          NaN        NaN      NaN             NaN   \n",
      "783 NaN           NaN          NaN        NaN      NaN             NaN   \n",
      "784 NaN           NaN          NaN        NaN      NaN             NaN   \n",
      "785 NaN           NaN          NaN        NaN      NaN             NaN   \n",
      "786 NaN           NaN          NaN        NaN      NaN             NaN   \n",
      "787 NaN           NaN          NaN        NaN      NaN             NaN   \n",
      "788 NaN           NaN          NaN        NaN      NaN             NaN   \n",
      "789 NaN           NaN          NaN        NaN      NaN             NaN   \n",
      "790 NaN           NaN          NaN        NaN      NaN             NaN   \n",
      "791 NaN           NaN          NaN        NaN      NaN             NaN   \n",
      "792 NaN           NaN          NaN        NaN      NaN             NaN   \n",
      "793 NaN           NaN          NaN        NaN      NaN             NaN   \n",
      "794 NaN           NaN          NaN        NaN      NaN             NaN   \n",
      "795 NaN           NaN          NaN        NaN      NaN             NaN   \n",
      "\n",
      "    favorited  geo  id id_str  ...   is_quote_status  lang  place  \\\n",
      "295       NaN  NaN NaN    NaN  ...               NaN   NaN    NaN   \n",
      "296       NaN  NaN NaN    NaN  ...               NaN   NaN    NaN   \n",
      "297       NaN  NaN NaN    NaN  ...               NaN   NaN    NaN   \n",
      "298       NaN  NaN NaN    NaN  ...               NaN   NaN    NaN   \n",
      "299       NaN  NaN NaN    NaN  ...               NaN   NaN    NaN   \n",
      "300       NaN  NaN NaN    NaN  ...               NaN   NaN    NaN   \n",
      "301       NaN  NaN NaN    NaN  ...               NaN   NaN    NaN   \n",
      "302       NaN  NaN NaN    NaN  ...               NaN   NaN    NaN   \n",
      "303       NaN  NaN NaN    NaN  ...               NaN   NaN    NaN   \n",
      "304       NaN  NaN NaN    NaN  ...               NaN   NaN    NaN   \n",
      "305       NaN  NaN NaN    NaN  ...               NaN   NaN    NaN   \n",
      "306       NaN  NaN NaN    NaN  ...               NaN   NaN    NaN   \n",
      "307       NaN  NaN NaN    NaN  ...               NaN   NaN    NaN   \n",
      "308       NaN  NaN NaN    NaN  ...               NaN   NaN    NaN   \n",
      "309       NaN  NaN NaN    NaN  ...               NaN   NaN    NaN   \n",
      "310       NaN  NaN NaN    NaN  ...               NaN   NaN    NaN   \n",
      "311       NaN  NaN NaN    NaN  ...               NaN   NaN    NaN   \n",
      "312       NaN  NaN NaN    NaN  ...               NaN   NaN    NaN   \n",
      "313       NaN  NaN NaN    NaN  ...               NaN   NaN    NaN   \n",
      "314       NaN  NaN NaN    NaN  ...               NaN   NaN    NaN   \n",
      "315       NaN  NaN NaN    NaN  ...               NaN   NaN    NaN   \n",
      "316       NaN  NaN NaN    NaN  ...               NaN   NaN    NaN   \n",
      "317       NaN  NaN NaN    NaN  ...               NaN   NaN    NaN   \n",
      "318       NaN  NaN NaN    NaN  ...               NaN   NaN    NaN   \n",
      "319       NaN  NaN NaN    NaN  ...               NaN   NaN    NaN   \n",
      "320       NaN  NaN NaN    NaN  ...               NaN   NaN    NaN   \n",
      "321       NaN  NaN NaN    NaN  ...               NaN   NaN    NaN   \n",
      "322       NaN  NaN NaN    NaN  ...               NaN   NaN    NaN   \n",
      "323       NaN  NaN NaN    NaN  ...               NaN   NaN    NaN   \n",
      "324       NaN  NaN NaN    NaN  ...               NaN   NaN    NaN   \n",
      "..        ...  ...  ..    ...  ...               ...   ...    ...   \n",
      "766       NaN  NaN NaN    NaN  ...               NaN   NaN    NaN   \n",
      "767       NaN  NaN NaN    NaN  ...               NaN   NaN    NaN   \n",
      "768       NaN  NaN NaN    NaN  ...               NaN   NaN    NaN   \n",
      "769       NaN  NaN NaN    NaN  ...               NaN   NaN    NaN   \n",
      "770       NaN  NaN NaN    NaN  ...               NaN   NaN    NaN   \n",
      "771       NaN  NaN NaN    NaN  ...               NaN   NaN    NaN   \n",
      "772       NaN  NaN NaN    NaN  ...               NaN   NaN    NaN   \n",
      "773       NaN  NaN NaN    NaN  ...               NaN   NaN    NaN   \n",
      "774       NaN  NaN NaN    NaN  ...               NaN   NaN    NaN   \n",
      "775       NaN  NaN NaN    NaN  ...               NaN   NaN    NaN   \n",
      "776       NaN  NaN NaN    NaN  ...               NaN   NaN    NaN   \n",
      "777       NaN  NaN NaN    NaN  ...               NaN   NaN    NaN   \n",
      "778       NaN  NaN NaN    NaN  ...               NaN   NaN    NaN   \n",
      "779       NaN  NaN NaN    NaN  ...               NaN   NaN    NaN   \n",
      "780       NaN  NaN NaN    NaN  ...               NaN   NaN    NaN   \n",
      "781       NaN  NaN NaN    NaN  ...               NaN   NaN    NaN   \n",
      "782       NaN  NaN NaN    NaN  ...               NaN   NaN    NaN   \n",
      "783       NaN  NaN NaN    NaN  ...               NaN   NaN    NaN   \n",
      "784       NaN  NaN NaN    NaN  ...               NaN   NaN    NaN   \n",
      "785       NaN  NaN NaN    NaN  ...               NaN   NaN    NaN   \n",
      "786       NaN  NaN NaN    NaN  ...               NaN   NaN    NaN   \n",
      "787       NaN  NaN NaN    NaN  ...               NaN   NaN    NaN   \n",
      "788       NaN  NaN NaN    NaN  ...               NaN   NaN    NaN   \n",
      "789       NaN  NaN NaN    NaN  ...               NaN   NaN    NaN   \n",
      "790       NaN  NaN NaN    NaN  ...               NaN   NaN    NaN   \n",
      "791       NaN  NaN NaN    NaN  ...               NaN   NaN    NaN   \n",
      "792       NaN  NaN NaN    NaN  ...               NaN   NaN    NaN   \n",
      "793       NaN  NaN NaN    NaN  ...               NaN   NaN    NaN   \n",
      "794       NaN  NaN NaN    NaN  ...               NaN   NaN    NaN   \n",
      "795       NaN  NaN NaN    NaN  ...               NaN   NaN    NaN   \n",
      "\n",
      "     possibly_sensitive  retweet_count retweeted source  text truncated  user  \n",
      "295                 NaN            NaN       NaN    NaN   NaN       NaN   NaN  \n",
      "296                 NaN            NaN       NaN    NaN   NaN       NaN   NaN  \n",
      "297                 NaN            NaN       NaN    NaN   NaN       NaN   NaN  \n",
      "298                 NaN            NaN       NaN    NaN   NaN       NaN   NaN  \n",
      "299                 NaN            NaN       NaN    NaN   NaN       NaN   NaN  \n",
      "300                 NaN            NaN       NaN    NaN   NaN       NaN   NaN  \n",
      "301                 NaN            NaN       NaN    NaN   NaN       NaN   NaN  \n",
      "302                 NaN            NaN       NaN    NaN   NaN       NaN   NaN  \n",
      "303                 NaN            NaN       NaN    NaN   NaN       NaN   NaN  \n",
      "304                 NaN            NaN       NaN    NaN   NaN       NaN   NaN  \n",
      "305                 NaN            NaN       NaN    NaN   NaN       NaN   NaN  \n",
      "306                 NaN            NaN       NaN    NaN   NaN       NaN   NaN  \n",
      "307                 NaN            NaN       NaN    NaN   NaN       NaN   NaN  \n",
      "308                 NaN            NaN       NaN    NaN   NaN       NaN   NaN  \n",
      "309                 NaN            NaN       NaN    NaN   NaN       NaN   NaN  \n",
      "310                 NaN            NaN       NaN    NaN   NaN       NaN   NaN  \n",
      "311                 NaN            NaN       NaN    NaN   NaN       NaN   NaN  \n",
      "312                 NaN            NaN       NaN    NaN   NaN       NaN   NaN  \n",
      "313                 NaN            NaN       NaN    NaN   NaN       NaN   NaN  \n",
      "314                 NaN            NaN       NaN    NaN   NaN       NaN   NaN  \n",
      "315                 NaN            NaN       NaN    NaN   NaN       NaN   NaN  \n",
      "316                 NaN            NaN       NaN    NaN   NaN       NaN   NaN  \n",
      "317                 NaN            NaN       NaN    NaN   NaN       NaN   NaN  \n",
      "318                 NaN            NaN       NaN    NaN   NaN       NaN   NaN  \n",
      "319                 NaN            NaN       NaN    NaN   NaN       NaN   NaN  \n",
      "320                 NaN            NaN       NaN    NaN   NaN       NaN   NaN  \n",
      "321                 NaN            NaN       NaN    NaN   NaN       NaN   NaN  \n",
      "322                 NaN            NaN       NaN    NaN   NaN       NaN   NaN  \n",
      "323                 NaN            NaN       NaN    NaN   NaN       NaN   NaN  \n",
      "324                 NaN            NaN       NaN    NaN   NaN       NaN   NaN  \n",
      "..                  ...            ...       ...    ...   ...       ...   ...  \n",
      "766                 NaN            NaN       NaN    NaN   NaN       NaN   NaN  \n",
      "767                 NaN            NaN       NaN    NaN   NaN       NaN   NaN  \n",
      "768                 NaN            NaN       NaN    NaN   NaN       NaN   NaN  \n",
      "769                 NaN            NaN       NaN    NaN   NaN       NaN   NaN  \n",
      "770                 NaN            NaN       NaN    NaN   NaN       NaN   NaN  \n",
      "771                 NaN            NaN       NaN    NaN   NaN       NaN   NaN  \n",
      "772                 NaN            NaN       NaN    NaN   NaN       NaN   NaN  \n",
      "773                 NaN            NaN       NaN    NaN   NaN       NaN   NaN  \n",
      "774                 NaN            NaN       NaN    NaN   NaN       NaN   NaN  \n",
      "775                 NaN            NaN       NaN    NaN   NaN       NaN   NaN  \n",
      "776                 NaN            NaN       NaN    NaN   NaN       NaN   NaN  \n",
      "777                 NaN            NaN       NaN    NaN   NaN       NaN   NaN  \n",
      "778                 NaN            NaN       NaN    NaN   NaN       NaN   NaN  \n",
      "779                 NaN            NaN       NaN    NaN   NaN       NaN   NaN  \n",
      "780                 NaN            NaN       NaN    NaN   NaN       NaN   NaN  \n",
      "781                 NaN            NaN       NaN    NaN   NaN       NaN   NaN  \n",
      "782                 NaN            NaN       NaN    NaN   NaN       NaN   NaN  \n",
      "783                 NaN            NaN       NaN    NaN   NaN       NaN   NaN  \n",
      "784                 NaN            NaN       NaN    NaN   NaN       NaN   NaN  \n",
      "785                 NaN            NaN       NaN    NaN   NaN       NaN   NaN  \n",
      "786                 NaN            NaN       NaN    NaN   NaN       NaN   NaN  \n",
      "787                 NaN            NaN       NaN    NaN   NaN       NaN   NaN  \n",
      "788                 NaN            NaN       NaN    NaN   NaN       NaN   NaN  \n",
      "789                 NaN            NaN       NaN    NaN   NaN       NaN   NaN  \n",
      "790                 NaN            NaN       NaN    NaN   NaN       NaN   NaN  \n",
      "791                 NaN            NaN       NaN    NaN   NaN       NaN   NaN  \n",
      "792                 NaN            NaN       NaN    NaN   NaN       NaN   NaN  \n",
      "793                 NaN            NaN       NaN    NaN   NaN       NaN   NaN  \n",
      "794                 NaN            NaN       NaN    NaN   NaN       NaN   NaN  \n",
      "795                 NaN            NaN       NaN    NaN   NaN       NaN   NaN  \n",
      "\n",
      "[501 rows x 25 columns]\n"
     ]
    },
    {
     "name": "stderr",
     "output_type": "stream",
     "text": [
      "/Users/samvickars/anaconda/lib/python3.6/site-packages/pandas/indexes/api.py:71: RuntimeWarning: '>' not supported between instances of 'str' and 'int', sort order is undefined for incomparable objects\n",
      "  result = result.union(other)\n",
      "/Users/samvickars/anaconda/lib/python3.6/site-packages/pandas/indexes/api.py:37: RuntimeWarning: '>' not supported between instances of 'str' and 'int', sort order is undefined for incomparable objects\n",
      "  union = _union_indexes(indexes)\n"
     ]
    }
   ],
   "source": [
    "data_quotedFrom = data['quoted_status'].apply(pd.Series)\n",
    "print(data_quotedFrom)"
   ]
  },
  {
   "cell_type": "code",
   "execution_count": 79,
   "metadata": {
    "collapsed": false
   },
   "outputs": [
    {
     "name": "stdout",
     "output_type": "stream",
     "text": [
      "      0            id              id_str    indices                 name  \\\n",
      "295 NaN           NaN                 NaN        NaN                  NaN   \n",
      "296 NaN  4.668110e+07            46681100   [25, 41]     martha maccallum   \n",
      "297 NaN           NaN                 NaN        NaN                  NaN   \n",
      "298 NaN  1.551360e+07            15513604    [3, 17]        FOX & friends   \n",
      "299 NaN  7.840867e+07            78408666  [99, 114]     Veterans Affairs   \n",
      "300 NaN  1.105413e+08           110541296   [32, 44]  U.S. Commerce Dept.   \n",
      "301 NaN  8.188760e+17  818876014390603776     [1, 8]        Melania Trump   \n",
      "302 NaN           NaN                 NaN        NaN                  NaN   \n",
      "303 NaN           NaN                 NaN        NaN                  NaN   \n",
      "304 NaN           NaN                 NaN        NaN                  NaN   \n",
      "305 NaN           NaN                 NaN        NaN                  NaN   \n",
      "306 NaN           NaN                 NaN        NaN                  NaN   \n",
      "307 NaN           NaN                 NaN        NaN                  NaN   \n",
      "308 NaN           NaN                 NaN        NaN                  NaN   \n",
      "309 NaN           NaN                 NaN        NaN                  NaN   \n",
      "310 NaN           NaN                 NaN        NaN                  NaN   \n",
      "311 NaN           NaN                 NaN        NaN                  NaN   \n",
      "312 NaN           NaN                 NaN        NaN                  NaN   \n",
      "313 NaN           NaN                 NaN        NaN                  NaN   \n",
      "314 NaN  7.634818e+07            76348185   [55, 64]  US Dept of Interior   \n",
      "315 NaN  8.188760e+17  818876014390603776   [22, 29]        Melania Trump   \n",
      "316 NaN           NaN                 NaN        NaN                  NaN   \n",
      "317 NaN           NaN                 NaN        NaN                  NaN   \n",
      "318 NaN           NaN                 NaN        NaN                  NaN   \n",
      "319 NaN           NaN                 NaN        NaN                  NaN   \n",
      "320 NaN           NaN                 NaN        NaN                  NaN   \n",
      "321 NaN           NaN                 NaN        NaN                  NaN   \n",
      "322 NaN           NaN                 NaN        NaN                  NaN   \n",
      "323 NaN           NaN                 NaN        NaN                  NaN   \n",
      "324 NaN  5.254428e+07            52544275    [9, 21]         Ivanka Trump   \n",
      "..   ..           ...                 ...        ...                  ...   \n",
      "766 NaN           NaN                 NaN        NaN                  NaN   \n",
      "767 NaN           NaN                 NaN        NaN                  NaN   \n",
      "768 NaN           NaN                 NaN        NaN                  NaN   \n",
      "769 NaN  1.367531e+06             1367531   [19, 27]             Fox News   \n",
      "770 NaN  8.222157e+17  822215673812119553   [81, 92]      The White House   \n",
      "771 NaN           NaN                 NaN        NaN                  NaN   \n",
      "772 NaN  8.222157e+17  822215673812119553   [54, 65]      The White House   \n",
      "773 NaN           NaN                 NaN        NaN                  NaN   \n",
      "774 NaN           NaN                 NaN        NaN                  NaN   \n",
      "775 NaN           NaN                 NaN        NaN                  NaN   \n",
      "776 NaN           NaN                 NaN        NaN                  NaN   \n",
      "777 NaN           NaN                 NaN        NaN                  NaN   \n",
      "778 NaN           NaN                 NaN        NaN                  NaN   \n",
      "779 NaN           NaN                 NaN        NaN                  NaN   \n",
      "780 NaN  8.222157e+17  822215673812119553    [3, 14]      The White House   \n",
      "781 NaN  1.367531e+06             1367531   [59, 67]             Fox News   \n",
      "782 NaN           NaN                 NaN        NaN                  NaN   \n",
      "783 NaN           NaN                 NaN        NaN                  NaN   \n",
      "784 NaN           NaN                 NaN        NaN                  NaN   \n",
      "785 NaN           NaN                 NaN        NaN                  NaN   \n",
      "786 NaN           NaN                 NaN        NaN                  NaN   \n",
      "787 NaN           NaN                 NaN        NaN                  NaN   \n",
      "788 NaN           NaN                 NaN        NaN                  NaN   \n",
      "789 NaN           NaN                 NaN        NaN                  NaN   \n",
      "790 NaN           NaN                 NaN        NaN                  NaN   \n",
      "791 NaN           NaN                 NaN        NaN                  NaN   \n",
      "792 NaN           NaN                 NaN        NaN                  NaN   \n",
      "793 NaN           NaN                 NaN        NaN                  NaN   \n",
      "794 NaN           NaN                 NaN        NaN                  NaN   \n",
      "795 NaN           NaN                 NaN        NaN                  NaN   \n",
      "\n",
      "         screen_name  \n",
      "295              NaN  \n",
      "296  marthamaccallum  \n",
      "297              NaN  \n",
      "298    foxandfriends  \n",
      "299   DeptVetAffairs  \n",
      "300      CommerceGov  \n",
      "301           FLOTUS  \n",
      "302              NaN  \n",
      "303              NaN  \n",
      "304              NaN  \n",
      "305              NaN  \n",
      "306              NaN  \n",
      "307              NaN  \n",
      "308              NaN  \n",
      "309              NaN  \n",
      "310              NaN  \n",
      "311              NaN  \n",
      "312              NaN  \n",
      "313              NaN  \n",
      "314         Interior  \n",
      "315           FLOTUS  \n",
      "316              NaN  \n",
      "317              NaN  \n",
      "318              NaN  \n",
      "319              NaN  \n",
      "320              NaN  \n",
      "321              NaN  \n",
      "322              NaN  \n",
      "323              NaN  \n",
      "324      IvankaTrump  \n",
      "..               ...  \n",
      "766              NaN  \n",
      "767              NaN  \n",
      "768              NaN  \n",
      "769          FoxNews  \n",
      "770       WhiteHouse  \n",
      "771              NaN  \n",
      "772       WhiteHouse  \n",
      "773              NaN  \n",
      "774              NaN  \n",
      "775              NaN  \n",
      "776              NaN  \n",
      "777              NaN  \n",
      "778              NaN  \n",
      "779              NaN  \n",
      "780       WhiteHouse  \n",
      "781          FoxNews  \n",
      "782              NaN  \n",
      "783              NaN  \n",
      "784              NaN  \n",
      "785              NaN  \n",
      "786              NaN  \n",
      "787              NaN  \n",
      "788              NaN  \n",
      "789              NaN  \n",
      "790              NaN  \n",
      "791              NaN  \n",
      "792              NaN  \n",
      "793              NaN  \n",
      "794              NaN  \n",
      "795              NaN  \n",
      "\n",
      "[501 rows x 6 columns]\n"
     ]
    },
    {
     "name": "stderr",
     "output_type": "stream",
     "text": [
      "/Users/samvickars/anaconda/lib/python3.6/site-packages/pandas/indexes/api.py:71: RuntimeWarning: '>' not supported between instances of 'str' and 'int', sort order is undefined for incomparable objects\n",
      "  result = result.union(other)\n",
      "/Users/samvickars/anaconda/lib/python3.6/site-packages/pandas/indexes/api.py:37: RuntimeWarning: '>' not supported between instances of 'str' and 'int', sort order is undefined for incomparable objects\n",
      "  union = _union_indexes(indexes)\n"
     ]
    }
   ],
   "source": [
    "data_entities_mentions = data_entities_mentions[0].apply(pd.Series)\n",
    "print(data_entities_mentions)"
   ]
  },
  {
   "cell_type": "code",
   "execution_count": 80,
   "metadata": {
    "collapsed": false
   },
   "outputs": [
    {
     "name": "stdout",
     "output_type": "stream",
     "text": [
      "    hashtags media symbols urls user_mentions url1 hashtag mentions_screenName\n",
      "295       []   NaN      []   []            []  NaN     NaN                 NaN\n"
     ]
    }
   ],
   "source": [
    "data_entities['mentions_screenName'] = data_entities_mentions['screen_name']\n",
    "print(data_entities.head(1))"
   ]
  },
  {
   "cell_type": "code",
   "execution_count": 81,
   "metadata": {
    "collapsed": false
   },
   "outputs": [
    {
     "name": "stdout",
     "output_type": "stream",
     "text": [
      "    hashtags media symbols urls user_mentions url1 hashtag  \\\n",
      "295       []   NaN      []   []            []  NaN     NaN   \n",
      "\n",
      "    mentions_screenName mentions_name  \n",
      "295                 NaN           NaN  \n"
     ]
    }
   ],
   "source": [
    "data_entities['mentions_name'] = data_entities_mentions['name']\n",
    "print(data_entities.head(1))"
   ]
  },
  {
   "cell_type": "code",
   "execution_count": null,
   "metadata": {
    "collapsed": false
   },
   "outputs": [],
   "source": []
  },
  {
   "cell_type": "code",
   "execution_count": null,
   "metadata": {
    "collapsed": false
   },
   "outputs": [],
   "source": []
  },
  {
   "cell_type": "code",
   "execution_count": 160,
   "metadata": {
    "collapsed": false
   },
   "outputs": [],
   "source": [
    "data = data.drop('place', 1)"
   ]
  },
  {
   "cell_type": "code",
   "execution_count": 132,
   "metadata": {
    "collapsed": false
   },
   "outputs": [],
   "source": [
    "data['user_desc'] = data_user['description']\n",
    "data['user_followers_count'] = data_user['followers_count']\n",
    "data['user_listed_count'] = data_user['listed_count']\n",
    "data['user_location'] = data_user['location']\n",
    "data['user_name'] = data_user['name']\n",
    "data['user_screen_name'] = data_user['screen_name']\n",
    "data['user_statuses_count'] = data_user['statuses_count']"
   ]
  },
  {
   "cell_type": "code",
   "execution_count": 155,
   "metadata": {
    "collapsed": false
   },
   "outputs": [],
   "source": [
    "\n",
    "data['quoted_status_screenName'] = data_quotedFrom['in_reply_to_screen_name']\n"
   ]
  },
  {
   "cell_type": "code",
   "execution_count": null,
   "metadata": {
    "collapsed": false
   },
   "outputs": [],
   "source": []
  },
  {
   "cell_type": "code",
   "execution_count": null,
   "metadata": {
    "collapsed": true
   },
   "outputs": [],
   "source": []
  },
  {
   "cell_type": "code",
   "execution_count": null,
   "metadata": {
    "collapsed": true
   },
   "outputs": [],
   "source": []
  },
  {
   "cell_type": "code",
   "execution_count": null,
   "metadata": {
    "collapsed": true
   },
   "outputs": [],
   "source": []
  },
  {
   "cell_type": "code",
   "execution_count": null,
   "metadata": {
    "collapsed": true
   },
   "outputs": [],
   "source": [
    "print"
   ]
  },
  {
   "cell_type": "code",
   "execution_count": 161,
   "metadata": {
    "collapsed": false
   },
   "outputs": [],
   "source": [
    "data.to_csv('data/data.csv')"
   ]
  },
  {
   "cell_type": "code",
   "execution_count": null,
   "metadata": {
    "collapsed": false
   },
   "outputs": [],
   "source": []
  },
  {
   "cell_type": "code",
   "execution_count": null,
   "metadata": {
    "collapsed": true
   },
   "outputs": [],
   "source": []
  },
  {
   "cell_type": "code",
   "execution_count": 150,
   "metadata": {
    "collapsed": false
   },
   "outputs": [
    {
     "name": "stdout",
     "output_type": "stream",
     "text": [
      "0                            float64\n",
      "contributors                 float64\n",
      "coordinates                  float64\n",
      "created_at                    object\n",
      "entities                      object\n",
      "favorite_count               float64\n",
      "favorited                     object\n",
      "geo                          float64\n",
      "id                           float64\n",
      "id_str                        object\n",
      "in_reply_to_screen_name      float64\n",
      "in_reply_to_status_id        float64\n",
      "in_reply_to_status_id_str    float64\n",
      "in_reply_to_user_id          float64\n",
      "in_reply_to_user_id_str      float64\n",
      "is_quote_status               object\n",
      "lang                          object\n",
      "place                        float64\n",
      "possibly_sensitive            object\n",
      "retweet_count                float64\n",
      "retweeted                     object\n",
      "source                        object\n",
      "text                          object\n",
      "truncated                     object\n",
      "user                          object\n",
      "dtype: object \n",
      "\n"
     ]
    }
   ],
   "source": [
    "print(data_quotedFrom.dtypes, \"\\n\")"
   ]
  },
  {
   "cell_type": "code",
   "execution_count": 156,
   "metadata": {
    "collapsed": false
   },
   "outputs": [
    {
     "name": "stdout",
     "output_type": "stream",
     "text": [
      "coordinates                         float64\n",
      "created_at                   datetime64[ns]\n",
      "favorite_count                        int64\n",
      "geo                                 float64\n",
      "id                                    int64\n",
      "id_str                                int64\n",
      "in_reply_to_screen_name              object\n",
      "in_reply_to_status_id               float64\n",
      "in_reply_to_status_id_str           float64\n",
      "in_reply_to_user_id                 float64\n",
      "in_reply_to_user_id_str             float64\n",
      "is_quote_status                        bool\n",
      "lang                                 object\n",
      "place                                object\n",
      "possibly_sensitive                  float64\n",
      "quoted_status_id                    float64\n",
      "quoted_status_id_str                float64\n",
      "retweet_count                         int64\n",
      "source                               object\n",
      "text                                 object\n",
      "truncated                              bool\n",
      "inc_link                             object\n",
      "inc_hashtag                          object\n",
      "inc_mentions_screenName              object\n",
      "inc_mentions_name                    object\n",
      "inc_media_url                        object\n",
      "user_desc                            object\n",
      "user_followers_count                  int64\n",
      "user_listed_count                     int64\n",
      "user_location                        object\n",
      "user_name                            object\n",
      "user_screen_name                     object\n",
      "user_statuses_count                   int64\n",
      "retweeted_text                       object\n",
      "retweeted_id                        float64\n",
      "retweeted_screenName                float64\n",
      "retweeted_user_id                   float64\n",
      "quoted_status_text                   object\n",
      "quoted_status_userId                float64\n",
      "quoted_status_screenName            float64\n",
      "dtype: object \n",
      "\n"
     ]
    }
   ],
   "source": [
    "print(data.dtypes, \"\\n\")"
   ]
  },
  {
   "cell_type": "code",
   "execution_count": null,
   "metadata": {
    "collapsed": true
   },
   "outputs": [],
   "source": []
  }
 ],
 "metadata": {
  "kernelspec": {
   "display_name": "Python 3",
   "language": "python",
   "name": "python3"
  },
  "language_info": {
   "codemirror_mode": {
    "name": "ipython",
    "version": 3
   },
   "file_extension": ".py",
   "mimetype": "text/x-python",
   "name": "python",
   "nbconvert_exporter": "python",
   "pygments_lexer": "ipython3",
   "version": "3.6.0"
  }
 },
 "nbformat": 4,
 "nbformat_minor": 2
}
