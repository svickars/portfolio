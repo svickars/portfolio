{
 "cells": [
  {
   "cell_type": "code",
   "execution_count": 2,
   "metadata": {
    "collapsed": true
   },
   "outputs": [],
   "source": [
    "import numpy as np\n",
    "import pandas as pd\n",
    "import matplotlib.pyplot as plt\n",
    "from sklearn.externals import joblib"
   ]
  },
  {
   "cell_type": "code",
   "execution_count": 99,
   "metadata": {
    "collapsed": false
   },
   "outputs": [
    {
     "name": "stdout",
     "output_type": "stream",
     "text": [
      "(499, 41)\n"
     ]
    }
   ],
   "source": [
    "data = pd.read_csv('data/data_100days.csv')\n",
    "print(data.shape)"
   ]
  },
  {
   "cell_type": "code",
   "execution_count": 100,
   "metadata": {
    "collapsed": false
   },
   "outputs": [
    {
     "name": "stdout",
     "output_type": "stream",
     "text": [
      "     tweet_number_of2017_r  tweet_number_of2017  tweet_number_r  tweet_number  \\\n",
      "0                      793                  297             499             1   \n",
      "1                      792                  298             498             2   \n",
      "2                      791                  299             497             3   \n",
      "3                      790                  300             496             4   \n",
      "4                      789                  301             495             5   \n",
      "5                      788                  302             494             6   \n",
      "6                      787                  303             493             7   \n",
      "7                      786                  304             492             8   \n",
      "8                      785                  305             491             9   \n",
      "9                      784                  306             490            10   \n",
      "10                     783                  307             489            11   \n",
      "11                     782                  308             488            12   \n",
      "12                     781                  309             487            13   \n",
      "13                     780                  310             486            14   \n",
      "14                     779                  311             485            15   \n",
      "15                     778                  312             484            16   \n",
      "16                     777                  313             483            17   \n",
      "17                     776                  314             482            18   \n",
      "18                     775                  315             481            19   \n",
      "19                     774                  316             480            20   \n",
      "20                     773                  317             479            21   \n",
      "21                     772                  318             478            22   \n",
      "22                     771                  319             477            23   \n",
      "23                     770                  320             476            24   \n",
      "24                     769                  321             475            25   \n",
      "25                     768                  322             474            26   \n",
      "26                     767                  323             473            27   \n",
      "27                     766                  324             472            28   \n",
      "28                     765                  325             471            29   \n",
      "29                     764                  326             470            30   \n",
      "..                     ...                  ...             ...           ...   \n",
      "469                    324                  766              30           470   \n",
      "470                    323                  767              29           471   \n",
      "471                    322                  768              28           472   \n",
      "472                    321                  769              27           473   \n",
      "473                    320                  770              26           474   \n",
      "474                    319                  771              25           475   \n",
      "475                    318                  772              24           476   \n",
      "476                    317                  773              23           477   \n",
      "477                    316                  774              22           478   \n",
      "478                    315                  775              21           479   \n",
      "479                    314                  776              20           480   \n",
      "480                    313                  777              19           481   \n",
      "481                    312                  778              18           482   \n",
      "482                    311                  779              17           483   \n",
      "483                    310                  780              16           484   \n",
      "484                    309                  781              15           485   \n",
      "485                    308                  782              14           486   \n",
      "486                    307                  783              13           487   \n",
      "487                    306                  784              12           488   \n",
      "488                    305                  785              11           489   \n",
      "489                    304                  786              10           490   \n",
      "490                    303                  787               9           491   \n",
      "491                    302                  788               8           492   \n",
      "492                    301                  789               7           493   \n",
      "493                    300                  790               6           494   \n",
      "494                    299                  791               5           495   \n",
      "495                    298                  792               4           496   \n",
      "496                    297                  793               3           497   \n",
      "497                    296                  794               2           498   \n",
      "498                    295                  795               1           499   \n",
      "\n",
      "             created_at           timestamp  favorite_count  \\\n",
      "0    1/20/2017 12:31:53   1/20/2017 8:31:53          270072   \n",
      "1    1/20/2017 17:51:25  1/20/2017 13:51:25          110413   \n",
      "2    1/20/2017 17:51:58  1/20/2017 13:51:58           91793   \n",
      "3    1/20/2017 17:52:45  1/20/2017 13:52:45          181628   \n",
      "4    1/20/2017 17:53:17  1/20/2017 13:53:17          219990   \n",
      "5    1/20/2017 17:54:00  1/20/2017 13:54:00          149030   \n",
      "6    1/20/2017 17:54:36  1/20/2017 13:54:36          175028   \n",
      "7    1/20/2017 17:55:44  1/20/2017 13:55:44          162528   \n",
      "8    1/20/2017 17:58:24  1/20/2017 13:58:24           59446   \n",
      "9    1/20/2017 18:00:43  1/20/2017 14:00:43           87099   \n",
      "10   1/20/2017 18:13:48  1/20/2017 14:13:48           92784   \n",
      "11    1/21/2017 4:56:15   1/21/2017 0:56:15          291838   \n",
      "12   1/21/2017 11:53:41   1/21/2017 7:53:41          178663   \n",
      "13   1/21/2017 23:54:31  1/21/2017 19:54:31               0   \n",
      "14   1/22/2017 12:35:09   1/22/2017 8:35:09          128540   \n",
      "15   1/22/2017 12:47:21   1/22/2017 8:47:21          214956   \n",
      "16   1/22/2017 12:51:36   1/22/2017 8:51:36          219171   \n",
      "17   1/22/2017 14:23:17  1/22/2017 10:23:17          393334   \n",
      "18   1/23/2017 11:38:16   1/23/2017 7:38:16          179094   \n",
      "19   1/24/2017 11:11:47   1/24/2017 7:11:47          155883   \n",
      "20   1/24/2017 16:58:06  1/24/2017 12:58:06          110219   \n",
      "21   1/24/2017 17:04:01  1/24/2017 13:04:01          100310   \n",
      "22   1/24/2017 17:49:17  1/24/2017 13:49:17          132880   \n",
      "23    1/25/2017 0:46:57  1/24/2017 20:46:57          101767   \n",
      "24    1/25/2017 2:16:19  1/24/2017 22:16:19          163998   \n",
      "25    1/25/2017 2:25:40  1/24/2017 22:25:40          210986   \n",
      "26    1/25/2017 2:37:48  1/24/2017 22:37:48          195439   \n",
      "27   1/25/2017 12:10:01   1/25/2017 8:10:01          130770   \n",
      "28   1/25/2017 12:13:46   1/25/2017 8:13:46          107962   \n",
      "29   1/25/2017 12:17:01   1/25/2017 8:17:01          133207   \n",
      "..                  ...                 ...             ...   \n",
      "469  4/25/2017 11:23:08   4/25/2017 7:23:08           38174   \n",
      "470  4/25/2017 12:30:15   4/25/2017 8:30:15           62410   \n",
      "471  4/25/2017 12:36:28   4/25/2017 8:36:28          100403   \n",
      "472  4/25/2017 17:51:03  4/25/2017 13:51:03           36680   \n",
      "473  4/25/2017 23:32:13  4/25/2017 19:32:13           39700   \n",
      "474  4/26/2017 10:20:00   4/26/2017 6:20:00           68417   \n",
      "475  4/26/2017 10:30:54   4/26/2017 6:30:54           49108   \n",
      "476  4/26/2017 10:38:51   4/26/2017 6:38:51           56713   \n",
      "477  4/26/2017 10:51:06   4/26/2017 6:51:06           47306   \n",
      "478  4/26/2017 14:53:26  4/26/2017 10:53:26           84968   \n",
      "479  4/26/2017 18:10:04  4/26/2017 14:10:04           33556   \n",
      "480  4/26/2017 20:49:16  4/26/2017 16:49:16           40150   \n",
      "481  4/26/2017 22:27:29  4/26/2017 18:27:29           48958   \n",
      "482  4/26/2017 23:06:16  4/26/2017 19:06:16           53315   \n",
      "483  4/27/2017 11:12:12   4/27/2017 7:12:12           70369   \n",
      "484  4/27/2017 11:21:20   4/27/2017 7:21:20           49344   \n",
      "485  4/27/2017 11:30:20   4/27/2017 7:30:20           70532   \n",
      "486  4/27/2017 14:37:09  4/27/2017 10:37:09           45485   \n",
      "487  4/27/2017 14:37:30  4/27/2017 10:37:30           60475   \n",
      "488  4/27/2017 14:37:51  4/27/2017 10:37:51           60227   \n",
      "489  4/27/2017 14:38:14  4/27/2017 10:38:14           49170   \n",
      "490  4/27/2017 14:39:04  4/27/2017 10:39:04           58783   \n",
      "491  4/27/2017 14:39:25  4/27/2017 10:39:25           60100   \n",
      "492  4/27/2017 18:59:31  4/27/2017 14:59:31           53257   \n",
      "493  4/27/2017 21:42:47  4/27/2017 17:42:47           28019   \n",
      "494  4/27/2017 22:43:19  4/27/2017 18:43:19           47087   \n",
      "495  4/28/2017 12:12:15   4/28/2017 8:12:15               0   \n",
      "496  4/28/2017 12:15:59   4/28/2017 8:15:59           80923   \n",
      "497  4/28/2017 22:31:25  4/28/2017 18:31:25           35290   \n",
      "498  4/28/2017 23:26:18  4/28/2017 19:26:18           85804   \n",
      "\n",
      "                                                  link            id  \\\n",
      "0    https://twitter.com/realdonaldtrump/status/822...  8.224214e+17   \n",
      "1    https://twitter.com/realdonaldtrump/status/822...  8.225018e+17   \n",
      "2    https://twitter.com/realdonaldtrump/status/822...  8.225019e+17   \n",
      "3    https://twitter.com/realdonaldtrump/status/822...  8.225021e+17   \n",
      "4    https://twitter.com/realdonaldtrump/status/822...  8.225023e+17   \n",
      "5    https://twitter.com/realdonaldtrump/status/822...  8.225025e+17   \n",
      "6    https://twitter.com/realdonaldtrump/status/822...  8.225026e+17   \n",
      "7    https://twitter.com/realdonaldtrump/status/822...  8.225029e+17   \n",
      "8    https://twitter.com/realdonaldtrump/status/822...  8.225036e+17   \n",
      "9    https://twitter.com/realdonaldtrump/status/822...  8.225041e+17   \n",
      "10   https://twitter.com/realdonaldtrump/status/822...  8.225074e+17   \n",
      "11   https://twitter.com/realdonaldtrump/status/822...  8.226691e+17   \n",
      "12   https://twitter.com/realdonaldtrump/status/822...  8.227742e+17   \n",
      "13   https://twitter.com/realdonaldtrump/status/822...  8.229556e+17   \n",
      "14   https://twitter.com/realdonaldtrump/status/823...  8.231470e+17   \n",
      "15   https://twitter.com/realdonaldtrump/status/823...  8.231501e+17   \n",
      "16   https://twitter.com/realdonaldtrump/status/823...  8.231511e+17   \n",
      "17   https://twitter.com/realdonaldtrump/status/823...  8.231742e+17   \n",
      "18   https://twitter.com/realdonaldtrump/status/823...  8.234951e+17   \n",
      "19   https://twitter.com/realdonaldtrump/status/823...  8.238508e+17   \n",
      "20   https://twitter.com/realdonaldtrump/status/823...  8.239379e+17   \n",
      "21   https://twitter.com/realdonaldtrump/status/823...  8.239394e+17   \n",
      "22   https://twitter.com/realdonaldtrump/status/823...  8.239508e+17   \n",
      "23   https://twitter.com/realdonaldtrump/status/824...  8.240559e+17   \n",
      "24   https://twitter.com/realdonaldtrump/status/824...  8.240784e+17   \n",
      "25   https://twitter.com/realdonaldtrump/status/824...  8.240808e+17   \n",
      "26   https://twitter.com/realdonaldtrump/status/824...  8.240838e+17   \n",
      "27   https://twitter.com/realdonaldtrump/status/824...  8.242278e+17   \n",
      "28   https://twitter.com/realdonaldtrump/status/824...  8.242288e+17   \n",
      "29   https://twitter.com/realdonaldtrump/status/824...  8.242296e+17   \n",
      "..                                                 ...           ...   \n",
      "469  https://twitter.com/realdonaldtrump/status/856...  8.568309e+17   \n",
      "470  https://twitter.com/realdonaldtrump/status/856...  8.568478e+17   \n",
      "471  https://twitter.com/realdonaldtrump/status/856...  8.568494e+17   \n",
      "472  https://twitter.com/realdonaldtrump/status/856...  8.569286e+17   \n",
      "473  https://twitter.com/realdonaldtrump/status/857...  8.570144e+17   \n",
      "474  https://twitter.com/realdonaldtrump/status/857...  8.571774e+17   \n",
      "475  https://twitter.com/realdonaldtrump/status/857...  8.571802e+17   \n",
      "476  https://twitter.com/realdonaldtrump/status/857...  8.571822e+17   \n",
      "477  https://twitter.com/realdonaldtrump/status/857...  8.571853e+17   \n",
      "478  https://twitter.com/realdonaldtrump/status/857...  8.572462e+17   \n",
      "479  https://twitter.com/realdonaldtrump/status/857...  8.572957e+17   \n",
      "480  https://twitter.com/realdonaldtrump/status/857...  8.573360e+17   \n",
      "481  https://twitter.com/realdonaldtrump/status/857...  8.573605e+17   \n",
      "482  https://twitter.com/realdonaldtrump/status/857...  8.573703e+17   \n",
      "483  https://twitter.com/realdonaldtrump/status/857...  8.575530e+17   \n",
      "484  https://twitter.com/realdonaldtrump/status/857...  8.575553e+17   \n",
      "485  https://twitter.com/realdonaldtrump/status/857...  8.575575e+17   \n",
      "486  https://twitter.com/realdonaldtrump/status/857...  8.576045e+17   \n",
      "487  https://twitter.com/realdonaldtrump/status/857...  8.576046e+17   \n",
      "488  https://twitter.com/realdonaldtrump/status/857...  8.576047e+17   \n",
      "489  https://twitter.com/realdonaldtrump/status/857...  8.576048e+17   \n",
      "490  https://twitter.com/realdonaldtrump/status/857...  8.576050e+17   \n",
      "491  https://twitter.com/realdonaldtrump/status/857...  8.576051e+17   \n",
      "492  https://twitter.com/realdonaldtrump/status/857...  8.576706e+17   \n",
      "493  https://twitter.com/realdonaldtrump/status/857...  8.577117e+17   \n",
      "494  https://twitter.com/realdonaldtrump/status/857...  8.577269e+17   \n",
      "495  https://twitter.com/realdonaldtrump/status/857...  8.579305e+17   \n",
      "496  https://twitter.com/realdonaldtrump/status/857...  8.579314e+17   \n",
      "497  https://twitter.com/realdonaldtrump/status/858...  8.580863e+17   \n",
      "498  https://twitter.com/realdonaldtrump/status/858...  8.581001e+17   \n",
      "\n",
      "           id_str           ...                   user_name  user_screen_name  \\\n",
      "0    8.224214e+17           ...             Donald J. Trump   realDonaldTrump   \n",
      "1    8.225018e+17           ...             Donald J. Trump   realDonaldTrump   \n",
      "2    8.225019e+17           ...             Donald J. Trump   realDonaldTrump   \n",
      "3    8.225021e+17           ...             Donald J. Trump   realDonaldTrump   \n",
      "4    8.225023e+17           ...             Donald J. Trump   realDonaldTrump   \n",
      "5    8.225025e+17           ...             Donald J. Trump   realDonaldTrump   \n",
      "6    8.225026e+17           ...             Donald J. Trump   realDonaldTrump   \n",
      "7    8.225029e+17           ...             Donald J. Trump   realDonaldTrump   \n",
      "8    8.225036e+17           ...             Donald J. Trump   realDonaldTrump   \n",
      "9    8.225041e+17           ...             Donald J. Trump   realDonaldTrump   \n",
      "10   8.225074e+17           ...             Donald J. Trump   realDonaldTrump   \n",
      "11   8.226691e+17           ...             Donald J. Trump   realDonaldTrump   \n",
      "12   8.227742e+17           ...             Donald J. Trump   realDonaldTrump   \n",
      "13   8.229556e+17           ...             Donald J. Trump   realDonaldTrump   \n",
      "14   8.231470e+17           ...             Donald J. Trump   realDonaldTrump   \n",
      "15   8.231501e+17           ...             Donald J. Trump   realDonaldTrump   \n",
      "16   8.231511e+17           ...             Donald J. Trump   realDonaldTrump   \n",
      "17   8.231742e+17           ...             Donald J. Trump   realDonaldTrump   \n",
      "18   8.234951e+17           ...             Donald J. Trump   realDonaldTrump   \n",
      "19   8.238508e+17           ...             Donald J. Trump   realDonaldTrump   \n",
      "20   8.239379e+17           ...             Donald J. Trump   realDonaldTrump   \n",
      "21   8.239394e+17           ...             Donald J. Trump   realDonaldTrump   \n",
      "22   8.239508e+17           ...             Donald J. Trump   realDonaldTrump   \n",
      "23   8.240559e+17           ...             Donald J. Trump   realDonaldTrump   \n",
      "24   8.240784e+17           ...             Donald J. Trump   realDonaldTrump   \n",
      "25   8.240808e+17           ...             Donald J. Trump   realDonaldTrump   \n",
      "26   8.240838e+17           ...             Donald J. Trump   realDonaldTrump   \n",
      "27   8.242278e+17           ...             Donald J. Trump   realDonaldTrump   \n",
      "28   8.242288e+17           ...             Donald J. Trump   realDonaldTrump   \n",
      "29   8.242296e+17           ...             Donald J. Trump   realDonaldTrump   \n",
      "..            ...           ...                         ...               ...   \n",
      "469  8.568309e+17           ...             Donald J. Trump   realDonaldTrump   \n",
      "470  8.568478e+17           ...             Donald J. Trump   realDonaldTrump   \n",
      "471  8.568494e+17           ...             Donald J. Trump   realDonaldTrump   \n",
      "472  8.569286e+17           ...             Donald J. Trump   realDonaldTrump   \n",
      "473  8.570144e+17           ...             Donald J. Trump   realDonaldTrump   \n",
      "474  8.571770e+17           ...             Donald J. Trump   realDonaldTrump   \n",
      "475  8.571802e+17           ...             Donald J. Trump   realDonaldTrump   \n",
      "476  8.571822e+17           ...             Donald J. Trump   realDonaldTrump   \n",
      "477  8.571853e+17           ...             Donald J. Trump   realDonaldTrump   \n",
      "478  8.572462e+17           ...             Donald J. Trump   realDonaldTrump   \n",
      "479  8.572957e+17           ...             Donald J. Trump   realDonaldTrump   \n",
      "480  8.573360e+17           ...             Donald J. Trump   realDonaldTrump   \n",
      "481  8.573605e+17           ...             Donald J. Trump   realDonaldTrump   \n",
      "482  8.573703e+17           ...             Donald J. Trump   realDonaldTrump   \n",
      "483  8.575530e+17           ...             Donald J. Trump   realDonaldTrump   \n",
      "484  8.575553e+17           ...             Donald J. Trump   realDonaldTrump   \n",
      "485  8.575575e+17           ...             Donald J. Trump   realDonaldTrump   \n",
      "486  8.576045e+17           ...             Donald J. Trump   realDonaldTrump   \n",
      "487  8.576046e+17           ...             Donald J. Trump   realDonaldTrump   \n",
      "488  8.576047e+17           ...             Donald J. Trump   realDonaldTrump   \n",
      "489  8.576048e+17           ...             Donald J. Trump   realDonaldTrump   \n",
      "490  8.576050e+17           ...             Donald J. Trump   realDonaldTrump   \n",
      "491  8.576051e+17           ...             Donald J. Trump   realDonaldTrump   \n",
      "492  8.576706e+17           ...             Donald J. Trump   realDonaldTrump   \n",
      "493  8.577117e+17           ...             Donald J. Trump   realDonaldTrump   \n",
      "494  8.577269e+17           ...             Donald J. Trump   realDonaldTrump   \n",
      "495  8.579305e+17           ...             Donald J. Trump   realDonaldTrump   \n",
      "496  8.579314e+17           ...             Donald J. Trump   realDonaldTrump   \n",
      "497  8.580863e+17           ...             Donald J. Trump   realDonaldTrump   \n",
      "498  8.581001e+17           ...             Donald J. Trump   realDonaldTrump   \n",
      "\n",
      "     user_statuses_count                                     retweeted_text  \\\n",
      "0                  34888                                                NaN   \n",
      "1                  34888                                                NaN   \n",
      "2                  34888                                                NaN   \n",
      "3                  34888                                                NaN   \n",
      "4                  34888                                                NaN   \n",
      "5                  34888                                                NaN   \n",
      "6                  34888                                                NaN   \n",
      "7                  34888                                                NaN   \n",
      "8                  34888                                                NaN   \n",
      "9                  34888                                                NaN   \n",
      "10                 34888                                                NaN   \n",
      "11                 34888                                                NaN   \n",
      "12                 34888                                                NaN   \n",
      "13                 34888  \"Do not allow anyone to tell you that it canno...   \n",
      "14                 34888                                                NaN   \n",
      "15                 34888                                                NaN   \n",
      "16                 34888                                                NaN   \n",
      "17                 34888                                                NaN   \n",
      "18                 34888                                                NaN   \n",
      "19                 34888                                                NaN   \n",
      "20                 34888                                                NaN   \n",
      "21                 34888                                                NaN   \n",
      "22                 34888                                                NaN   \n",
      "23                 34888                                                NaN   \n",
      "24                 34888                                                NaN   \n",
      "25                 34888                                                NaN   \n",
      "26                 34888                                                NaN   \n",
      "27                 34888                                                NaN   \n",
      "28                 34888                                                NaN   \n",
      "29                 34888                                                NaN   \n",
      "..                   ...                                                ...   \n",
      "469                34890                                                NaN   \n",
      "470                34891                                                NaN   \n",
      "471                34892                                                NaN   \n",
      "472                34893                                                NaN   \n",
      "473                34894                                                NaN   \n",
      "474                34895                                                NaN   \n",
      "475                34896                                                NaN   \n",
      "476                34897                                                NaN   \n",
      "477                34898                                                NaN   \n",
      "478                34899                                                NaN   \n",
      "479                34900                                                NaN   \n",
      "480                34901                                                NaN   \n",
      "481                34902                                                NaN   \n",
      "482                34903                                                NaN   \n",
      "483                34904                                                NaN   \n",
      "484                34905                                                NaN   \n",
      "485                34906                                                NaN   \n",
      "486                34907                                                NaN   \n",
      "487                34908                                                NaN   \n",
      "488                34909                                                NaN   \n",
      "489                34910                                                NaN   \n",
      "490                34911                                                NaN   \n",
      "491                34912                                                NaN   \n",
      "492                34913                                                NaN   \n",
      "493                34913                                                NaN   \n",
      "494                34914                                                NaN   \n",
      "495                34915  Former President Obama's $400K Wall Street spe...   \n",
      "496                34916                                                NaN   \n",
      "497                34917                                                NaN   \n",
      "498                34918                                                NaN   \n",
      "\n",
      "     retweeted_id retweeted_screenName  retweeted_user_id  quoted_status_text  \\\n",
      "0             NaN                  NaN                NaN                 NaN   \n",
      "1             NaN                  NaN                NaN                 NaN   \n",
      "2             NaN                  NaN                NaN                 NaN   \n",
      "3             NaN                  NaN                NaN                 NaN   \n",
      "4             NaN                  NaN                NaN                 NaN   \n",
      "5             NaN                  NaN                NaN                 NaN   \n",
      "6             NaN                  NaN                NaN                 NaN   \n",
      "7             NaN                  NaN                NaN                 NaN   \n",
      "8             NaN                  NaN                NaN                 NaN   \n",
      "9             NaN                  NaN                NaN                 NaN   \n",
      "10            NaN                  NaN                NaN                 NaN   \n",
      "11            NaN                  NaN                NaN                 NaN   \n",
      "12            NaN                  NaN                NaN                 NaN   \n",
      "13   8.230000e+17                  NaN                NaN                 NaN   \n",
      "14            NaN                  NaN                NaN                 NaN   \n",
      "15            NaN                  NaN                NaN                 NaN   \n",
      "16            NaN                  NaN                NaN                 NaN   \n",
      "17            NaN                  NaN                NaN                 NaN   \n",
      "18            NaN                  NaN                NaN                 NaN   \n",
      "19            NaN                  NaN                NaN                 NaN   \n",
      "20            NaN                  NaN                NaN                 NaN   \n",
      "21            NaN                  NaN                NaN                 NaN   \n",
      "22            NaN                  NaN                NaN                 NaN   \n",
      "23            NaN                  NaN                NaN                 NaN   \n",
      "24            NaN                  NaN                NaN                 NaN   \n",
      "25            NaN                  NaN                NaN                 NaN   \n",
      "26            NaN                  NaN                NaN                 NaN   \n",
      "27            NaN                  NaN                NaN                 NaN   \n",
      "28            NaN                  NaN                NaN                 NaN   \n",
      "29            NaN                  NaN                NaN                 NaN   \n",
      "..            ...                  ...                ...                 ...   \n",
      "469           NaN                  NaN                NaN                 NaN   \n",
      "470           NaN                  NaN                NaN                 NaN   \n",
      "471           NaN                  NaN                NaN                 NaN   \n",
      "472           NaN                  NaN                NaN                 NaN   \n",
      "473           NaN                  NaN                NaN                 NaN   \n",
      "474           NaN                  NaN                NaN                 NaN   \n",
      "475           NaN                  NaN                NaN                 NaN   \n",
      "476           NaN                  NaN                NaN                 NaN   \n",
      "477           NaN                  NaN                NaN                 NaN   \n",
      "478           NaN                  NaN                NaN                 NaN   \n",
      "479           NaN                  NaN                NaN                 NaN   \n",
      "480           NaN                  NaN                NaN                 NaN   \n",
      "481           NaN                  NaN                NaN                 NaN   \n",
      "482           NaN                  NaN                NaN                 NaN   \n",
      "483           NaN                  NaN                NaN                 NaN   \n",
      "484           NaN                  NaN                NaN                 NaN   \n",
      "485           NaN                  NaN                NaN                 NaN   \n",
      "486           NaN                  NaN                NaN                 NaN   \n",
      "487           NaN                  NaN                NaN                 NaN   \n",
      "488           NaN                  NaN                NaN                 NaN   \n",
      "489           NaN                  NaN                NaN                 NaN   \n",
      "490           NaN                  NaN                NaN                 NaN   \n",
      "491           NaN                  NaN                NaN                 NaN   \n",
      "492           NaN                  NaN                NaN                 NaN   \n",
      "493           NaN                  NaN                NaN                 NaN   \n",
      "494           NaN                  NaN                NaN                 NaN   \n",
      "495  8.580000e+17                  NaN                NaN                 NaN   \n",
      "496           NaN                  NaN                NaN                 NaN   \n",
      "497           NaN                  NaN                NaN                 NaN   \n",
      "498           NaN                  NaN                NaN                 NaN   \n",
      "\n",
      "     quoted_status_userId quoted_status_screenName  \n",
      "0                     NaN                      NaN  \n",
      "1                     NaN                      NaN  \n",
      "2                     NaN                      NaN  \n",
      "3                     NaN                      NaN  \n",
      "4                     NaN                      NaN  \n",
      "5                     NaN                      NaN  \n",
      "6                     NaN                      NaN  \n",
      "7                     NaN                      NaN  \n",
      "8                     NaN                      NaN  \n",
      "9                     NaN                      NaN  \n",
      "10                    NaN                      NaN  \n",
      "11                    NaN                      NaN  \n",
      "12                    NaN                      NaN  \n",
      "13                    NaN                      NaN  \n",
      "14                    NaN                      NaN  \n",
      "15                    NaN                      NaN  \n",
      "16                    NaN                      NaN  \n",
      "17                    NaN                      NaN  \n",
      "18                    NaN                      NaN  \n",
      "19                    NaN                      NaN  \n",
      "20                    NaN                      NaN  \n",
      "21                    NaN                      NaN  \n",
      "22                    NaN                      NaN  \n",
      "23                    NaN                      NaN  \n",
      "24                    NaN                      NaN  \n",
      "25                    NaN                      NaN  \n",
      "26                    NaN                      NaN  \n",
      "27                    NaN                      NaN  \n",
      "28                    NaN                      NaN  \n",
      "29                    NaN                      NaN  \n",
      "..                    ...                      ...  \n",
      "469                   NaN                      NaN  \n",
      "470                   NaN                      NaN  \n",
      "471                   NaN                      NaN  \n",
      "472                   NaN                      NaN  \n",
      "473                   NaN                      NaN  \n",
      "474                   NaN                      NaN  \n",
      "475                   NaN                      NaN  \n",
      "476                   NaN                      NaN  \n",
      "477                   NaN                      NaN  \n",
      "478                   NaN                      NaN  \n",
      "479                   NaN                      NaN  \n",
      "480                   NaN                      NaN  \n",
      "481                   NaN                      NaN  \n",
      "482                   NaN                      NaN  \n",
      "483                   NaN                      NaN  \n",
      "484                   NaN                      NaN  \n",
      "485                   NaN                      NaN  \n",
      "486                   NaN                      NaN  \n",
      "487                   NaN                      NaN  \n",
      "488                   NaN                      NaN  \n",
      "489                   NaN                      NaN  \n",
      "490                   NaN                      NaN  \n",
      "491                   NaN                      NaN  \n",
      "492                   NaN                      NaN  \n",
      "493                   NaN                      NaN  \n",
      "494                   NaN                      NaN  \n",
      "495                   NaN                      NaN  \n",
      "496                   NaN                      NaN  \n",
      "497                   NaN                      NaN  \n",
      "498                   NaN                      NaN  \n",
      "\n",
      "[499 rows x 41 columns]\n"
     ]
    }
   ],
   "source": [
    "print(data)"
   ]
  },
  {
   "cell_type": "markdown",
   "metadata": {},
   "source": [
    "## Sentiment Analysis"
   ]
  },
  {
   "cell_type": "code",
   "execution_count": 77,
   "metadata": {
    "collapsed": false
   },
   "outputs": [
    {
     "name": "stdout",
     "output_type": "stream",
     "text": [
      "Don't let the FAKE NEWS tell you that there is big infighting in the Trump Admin. We are getting along great, and getting major things done!\n"
     ]
    }
   ],
   "source": [
    "from textblob import TextBlob\n",
    "\n",
    "text = data['text'][251]\n",
    "print(text)"
   ]
  },
  {
   "cell_type": "code",
   "execution_count": 78,
   "metadata": {
    "collapsed": false
   },
   "outputs": [],
   "source": [
    "blob = TextBlob(text)"
   ]
  },
  {
   "cell_type": "code",
   "execution_count": 80,
   "metadata": {
    "collapsed": false
   },
   "outputs": [
    {
     "name": "stdout",
     "output_type": "stream",
     "text": [
      "[('Do', 'VBP'), (\"n't\", 'RB'), ('let', 'VB'), ('the', 'DT'), ('FAKE', 'NNP'), ('NEWS', 'NNP'), ('tell', 'NN'), ('you', 'PRP'), ('that', 'IN'), ('there', 'EX'), ('is', 'VBZ'), ('big', 'JJ'), ('infighting', 'NN'), ('in', 'IN'), ('the', 'DT'), ('Trump', 'NNP'), ('Admin', 'NNP'), ('We', 'PRP'), ('are', 'VBP'), ('getting', 'VBG'), ('along', 'RB'), ('great', 'JJ'), ('and', 'CC'), ('getting', 'VBG'), ('major', 'JJ'), ('things', 'NNS'), ('done', 'VBN')]\n"
     ]
    }
   ],
   "source": [
    "print(blob.tags)"
   ]
  },
  {
   "cell_type": "code",
   "execution_count": 54,
   "metadata": {
    "collapsed": false
   },
   "outputs": [
    {
     "name": "stdout",
     "output_type": "stream",
     "text": [
      "-0.25\n",
      "0.4390625\n"
     ]
    }
   ],
   "source": [
    "for sentence in blob.sentences:\n",
    "    print(sentence.sentiment.polarity)"
   ]
  },
  {
   "cell_type": "code",
   "execution_count": 59,
   "metadata": {
    "collapsed": false
   },
   "outputs": [
    {
     "data": {
      "text/plain": [
       "<bound method WordList.lemmatize of WordList(['Do', \"n't\", 'let', 'the', 'FAKE', 'NEWS', 'tell', 'you', 'that', 'there', 'is', 'big', 'infighting', 'in', 'the', 'Trump', 'Admin', 'We', 'are', 'getting', 'along', 'great', 'and', 'getting', 'major', 'things', 'done'])>"
      ]
     },
     "execution_count": 59,
     "metadata": {},
     "output_type": "execute_result"
    }
   ],
   "source": [
    "blob.words.lemmatize"
   ]
  },
  {
   "cell_type": "markdown",
   "metadata": {},
   "source": [
    "## NLTK"
   ]
  },
  {
   "cell_type": "code",
   "execution_count": 72,
   "metadata": {
    "collapsed": false
   },
   "outputs": [],
   "source": [
    "import nltk"
   ]
  },
  {
   "cell_type": "code",
   "execution_count": 73,
   "metadata": {
    "collapsed": false
   },
   "outputs": [
    {
     "name": "stdout",
     "output_type": "stream",
     "text": [
      "It all begins today! I will see you at 11:00 A.M. for the swearing-in. THE MOVEMENT CONTINUES - THE WORK BEGINS!\n"
     ]
    }
   ],
   "source": [
    "sentence = data['text'][0]\n",
    "print(sentence)"
   ]
  },
  {
   "cell_type": "code",
   "execution_count": 76,
   "metadata": {
    "collapsed": false
   },
   "outputs": [
    {
     "name": "stdout",
     "output_type": "stream",
     "text": [
      "[('It', 'PRP'), ('all', 'DT'), ('begins', 'VBZ'), ('today', 'NN'), ('!', '.'), ('I', 'PRP'), ('will', 'MD'), ('see', 'VB'), ('you', 'PRP'), ('at', 'IN'), ('11:00', 'CD'), ('A.M.', 'NNP'), ('for', 'IN'), ('the', 'DT'), ('swearing-in', 'NN'), ('.', '.'), ('THE', 'DT'), ('MOVEMENT', 'NNP'), ('CONTINUES', 'NNP'), ('-', ':'), ('THE', 'DT'), ('WORK', 'NN'), ('BEGINS', 'NNP'), ('!', '.')]\n"
     ]
    }
   ],
   "source": [
    "tokens = nltk.word_tokenize(sentence)\n",
    "tagged = nltk.pos_tag(tokens)\n",
    "print(tagged)"
   ]
  },
  {
   "cell_type": "code",
   "execution_count": null,
   "metadata": {
    "collapsed": true
   },
   "outputs": [],
   "source": []
  },
  {
   "cell_type": "markdown",
   "metadata": {},
   "source": [
    "## Combine"
   ]
  },
  {
   "cell_type": "code",
   "execution_count": 97,
   "metadata": {
    "collapsed": false
   },
   "outputs": [
    {
     "name": "stderr",
     "output_type": "stream",
     "text": [
      "/Users/samvickars/anaconda/lib/python3.6/site-packages/ipykernel/__main__.py:1: SettingWithCopyWarning: \n",
      "A value is trying to be set on a copy of a slice from a DataFrame\n",
      "\n",
      "See the caveats in the documentation: http://pandas.pydata.org/pandas-docs/stable/indexing.html#indexing-view-versus-copy\n",
      "  if __name__ == '__main__':\n"
     ]
    }
   ],
   "source": [
    "data = pd.read_csv('data/data_100days_tobetagged.csv')\n",
    "print(data.shape)"
   ]
  },
  {
   "cell_type": "code",
   "execution_count": 98,
   "metadata": {
    "collapsed": false
   },
   "outputs": [
    {
     "name": "stdout",
     "output_type": "stream",
     "text": [
      "0               It all begins today! I will see you at 11:00 A...\n",
      "1               Today we are not merely transferring power fro...\n",
      "2               power from Washington, D.C. and giving it back...\n",
      "3               What truly matters is not which party controls...\n",
      "4               January 20th 2017, will be remembered as the d...\n",
      "5               The forgotten men and women of our country wil...\n",
      "6               We will bring back our jobs. We will bring bac...\n",
      "7               We will follow two simple rules: BUY AMERICAN ...\n",
      "8               It is time to remember that...https://t.co/ZKy...\n",
      "9               So to all Americans, in every city near and fa...\n",
      "10                    TO ALL AMERICANS🇺🇸\\nhttps://t.co/D7Es6ie4fY\n",
      "11              THANK YOU for another wonderful evening in Was...\n",
      "12              A fantastic day and evening in Washington D.C....\n",
      "13              RT @WhiteHouse: \"Do not allow anyone to tell y...\n",
      "14              Had a great meeting at CIA Headquarters yester...\n",
      "15              Watched protests yesterday but was under the i...\n",
      "16              Wow, television ratings just out: 31 million p...\n",
      "17              Peaceful protests are a hallmark of our democr...\n",
      "18              Busy week planned with a heavy focus on jobs a...\n",
      "19              Will be meeting at 9:00 with top automobile ex...\n",
      "20              A photo delivered yesterday that will be displ...\n",
      "21              Great meeting with automobile industry leaders...\n",
      "22              Signing orders to move forward with the constr...\n",
      "23              Great meeting with Ford CEO Mark Fields and Ge...\n",
      "24              Congratulations to @FoxNews for being number o...\n",
      "25              If Chicago doesn't fix the horrible \"carnage\" ...\n",
      "26              Big day planned on NATIONAL SECURITY tomorrow....\n",
      "27              I will be asking for a major investigation int...\n",
      "28              even, those registered to vote who are dead (a...\n",
      "29              I will be making my Supreme Court pick on Thur...\n",
      "                                      ...                        \n",
      "470             Canada has made business for our dairy farmers...\n",
      "471             Don't let the fake media tell you that I have ...\n",
      "472             Remarks at the United States Holocaust Memoria...\n",
      "473             Presidential Executive Order on Promoting Agri...\n",
      "474             First the Ninth Circuit rules against the ban ...\n",
      "475             Out of our very big country, with many choices...\n",
      "476             ...the Ninth Circuit, which has a terrible rec...\n",
      "477             The U.S. recorded its slowest economic growth ...\n",
      "478             HAPPY BIRTHDAY to our @FLOTUS, Melania! \\nhttp...\n",
      "479             Today, I signed an Executive Order @ the U.S. ...\n",
      "480             Today, I signed an Executive Order on Enforcin...\n",
      "481             A great great honor to welcome &amp; recognize...\n",
      "482             Democrats are trying to bail out insurance com...\n",
      "483             I received calls from the President of Mexico ...\n",
      "484             ...subject to the fact that if we do not reach...\n",
      "485             The Democrats want to shut government if we do...\n",
      "486             I want to help our miners while the Democrats ...\n",
      "487             I promise to rebuild our military and secure o...\n",
      "488             What's more important? Rebuilding our military...\n",
      "489             Democrats jeopardizing the safety of our troop...\n",
      "490             Democrats used to support border security — no...\n",
      "491             As families prepare for summer vacations in ou...\n",
      "492             .@FLOTUS Melania and I were honored to welcome...\n",
      "493             Presidential Memorandum for the @CommerceGov, ...\n",
      "494             Today, I signed an Executive Order on Improvin...\n",
      "495             RT @foxandfriends: Former President Obama's $4...\n",
      "496             We are making tremendous progress with the V. ...\n",
      "497             I will be interviewed by @MarthaMaccallum on @...\n",
      "498             North Korea disrespected the wishes of China &...\n",
      "tweet_number    0        3\n",
      "1        4\n",
      "2        5\n",
      "3        6\n",
      "4 ...\n",
      "Name: text, dtype: object\n"
     ]
    }
   ],
   "source": [
    "print(data_tagged)"
   ]
  },
  {
   "cell_type": "code",
   "execution_count": null,
   "metadata": {
    "collapsed": true
   },
   "outputs": [],
   "source": []
  }
 ],
 "metadata": {
  "kernelspec": {
   "display_name": "Python 3",
   "language": "python",
   "name": "python3"
  },
  "language_info": {
   "codemirror_mode": {
    "name": "ipython",
    "version": 3
   },
   "file_extension": ".py",
   "mimetype": "text/x-python",
   "name": "python",
   "nbconvert_exporter": "python",
   "pygments_lexer": "ipython3",
   "version": "3.6.0"
  }
 },
 "nbformat": 4,
 "nbformat_minor": 2
}
